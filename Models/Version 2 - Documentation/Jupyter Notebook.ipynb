{
 "cells": [
  {
   "cell_type": "markdown",
   "id": "cd1a86f0",
   "metadata": {
    "papermill": {
     "duration": 0.012447,
     "end_time": "2023-01-28T09:45:22.160021",
     "exception": false,
     "start_time": "2023-01-28T09:45:22.147574",
     "status": "completed"
    },
    "tags": []
   },
   "source": [
    "# Hotel Reservations Dataset"
   ]
  },
  {
   "cell_type": "markdown",
   "id": "d9c9c7eb",
   "metadata": {
    "papermill": {
     "duration": 0.010462,
     "end_time": "2023-01-28T09:45:22.181407",
     "exception": false,
     "start_time": "2023-01-28T09:45:22.170945",
     "status": "completed"
    },
    "tags": []
   },
   "source": [
    "Can you predict if customer is going to cancel the reservation ?"
   ]
  },
  {
   "cell_type": "markdown",
   "id": "4ca13944",
   "metadata": {
    "papermill": {
     "duration": 0.010622,
     "end_time": "2023-01-28T09:45:22.202824",
     "exception": false,
     "start_time": "2023-01-28T09:45:22.192202",
     "status": "completed"
    },
    "tags": []
   },
   "source": [
    "## About Dataset"
   ]
  },
  {
   "cell_type": "markdown",
   "id": "c0f5de97",
   "metadata": {
    "papermill": {
     "duration": 0.010406,
     "end_time": "2023-01-28T09:45:22.225593",
     "exception": false,
     "start_time": "2023-01-28T09:45:22.215187",
     "status": "completed"
    },
    "tags": []
   },
   "source": [
    "### Context"
   ]
  },
  {
   "cell_type": "markdown",
   "id": "f657d107",
   "metadata": {
    "papermill": {
     "duration": 0.010509,
     "end_time": "2023-01-28T09:45:22.246861",
     "exception": false,
     "start_time": "2023-01-28T09:45:22.236352",
     "status": "completed"
    },
    "tags": []
   },
   "source": [
    "The online hotel reservation channels have dramatically changed booking possibilities and customers’ behavior. A significant number of hotel reservations are called-off due to cancellations or no-shows. The typical reasons for cancellations include change of plans, scheduling conflicts, etc. This is often made easier by the option to do so free of charge or preferably at a low cost which is beneficial to hotel guests but it is a less desirable and possibly revenue-diminishing factor for hotels to deal with."
   ]
  },
  {
   "cell_type": "markdown",
   "id": "5c07d234",
   "metadata": {
    "papermill": {
     "duration": 0.0103,
     "end_time": "2023-01-28T09:45:22.267917",
     "exception": false,
     "start_time": "2023-01-28T09:45:22.257617",
     "status": "completed"
    },
    "tags": []
   },
   "source": [
    "#### Can you predict if the customer is going to honor the reservation or cancel it ?"
   ]
  },
  {
   "cell_type": "markdown",
   "id": "f3e3ee6e",
   "metadata": {
    "papermill": {
     "duration": 0.010104,
     "end_time": "2023-01-28T09:45:22.288478",
     "exception": false,
     "start_time": "2023-01-28T09:45:22.278374",
     "status": "completed"
    },
    "tags": []
   },
   "source": [
    "##### About the file "
   ]
  },
  {
   "cell_type": "markdown",
   "id": "65886400",
   "metadata": {
    "papermill": {
     "duration": 0.010427,
     "end_time": "2023-01-28T09:45:22.309621",
     "exception": false,
     "start_time": "2023-01-28T09:45:22.299194",
     "status": "completed"
    },
    "tags": []
   },
   "source": [
    "The file contains the different attributes of customers' reservation details. The detailed data dictionary is given below."
   ]
  },
  {
   "cell_type": "markdown",
   "id": "b701362a",
   "metadata": {
    "papermill": {
     "duration": 0.010502,
     "end_time": "2023-01-28T09:45:22.330725",
     "exception": false,
     "start_time": "2023-01-28T09:45:22.320223",
     "status": "completed"
    },
    "tags": []
   },
   "source": [
    "###### Data Dictionaly "
   ]
  },
  {
   "cell_type": "markdown",
   "id": "a6128f38",
   "metadata": {
    "papermill": {
     "duration": 0.010844,
     "end_time": "2023-01-28T09:45:22.352344",
     "exception": false,
     "start_time": "2023-01-28T09:45:22.341500",
     "status": "completed"
    },
    "tags": []
   },
   "source": [
    "* **Booking_ID** :  unique identifier of each booking\n",
    "* **no_of_adults** :  Number of adults\n",
    "* **no_of_children** :  Number of Children\n",
    "* **no_of_weekend_nights** :  Number of weekend nights (Saturday or Sunday) the guest stayed or booked to stay at the hotel\n",
    "* **no_of_week_nights** :  Number of week nights (Monday to Friday) the guest stayed or booked to stay at the hotel\n",
    "* **type_of_meal_plan** :  Type of meal plan booked by the customer:\n",
    "* **required_car_parking_space** :  Does the customer require a car parking space? (0 - No, 1- Yes)\n",
    "* **room_type_reserved** :  Type of room reserved by the * customer. The values are ciphered (encoded) by INN * Hotels.\n",
    "* **lead_time** :  Number of days between the date of booking and the arrival date\n",
    "* **arrival_yea** :  Year of arrival date\n",
    "* **arrival_month** :  Month of arrival date\n",
    "* **arrival_date** :  Date of the month\n",
    "* **market_segment_type** :  Market segment designation.\n",
    "* **repeated_guest** :  Is the customer a repeated guest? (0 - No, 1- Yes)\n",
    "no_of_previous_cancellations: Number of previous * bookings that were canceled by the customer prior to the current booking\n",
    "* **no_of_previous_bookings_not_canceled** :  Number of previous bookings not canceled by the customer prior to the current booking\n",
    "* **avg_price_per_room** :  Average price per day of the * **reservation; prices of the rooms are dynamic. (in euros)\n",
    "* **no_of_special_requests** :  Total number of special requests made by the customer (e.g. high floor, view from the room, etc)\n",
    "* **booking_status** :  Flag indicating if the booking was canceled or not."
   ]
  },
  {
   "cell_type": "markdown",
   "id": "0b0ba5c8",
   "metadata": {
    "papermill": {
     "duration": 0.010575,
     "end_time": "2023-01-28T09:45:22.373966",
     "exception": false,
     "start_time": "2023-01-28T09:45:22.363391",
     "status": "completed"
    },
    "tags": []
   },
   "source": [
    "# Lets import the required modules"
   ]
  },
  {
   "cell_type": "code",
   "execution_count": 1,
   "id": "d15aaf16",
   "metadata": {
    "execution": {
     "iopub.execute_input": "2023-01-28T09:45:22.397937Z",
     "iopub.status.busy": "2023-01-28T09:45:22.397166Z",
     "iopub.status.idle": "2023-01-28T09:45:23.809987Z",
     "shell.execute_reply": "2023-01-28T09:45:23.808831Z"
    },
    "papermill": {
     "duration": 1.427528,
     "end_time": "2023-01-28T09:45:23.812395",
     "exception": false,
     "start_time": "2023-01-28T09:45:22.384867",
     "status": "completed"
    },
    "tags": []
   },
   "outputs": [
    {
     "name": "stdout",
     "output_type": "stream",
     "text": [
      "/kaggle/input/hotel-reservations-classification-dataset/Hotel Reservations.csv\n"
     ]
    }
   ],
   "source": [
    "import pandas as pd # Data Processing \n",
    "import numpy as np # Array Processing\n",
    "from sklearn.preprocessing import OneHotEncoder # Encodfing of Catetgorical Data\n",
    "from sklearn.preprocessing import StandardScaler # Scaling of Data \n",
    "from imblearn.over_sampling import RandomOverSampler # Sampling of Data \n",
    "from sklearn.linear_model import LogisticRegression # Logistic Regression\n",
    "from sklearn.neighbors import KNeighborsClassifier # K Nearest Neighbors Classifier\n",
    "from sklearn.naive_bayes import GaussianNB # Gaussian Naive Bayes\n",
    "from sklearn.metrics import classification_report # Classification Report\n",
    "import os\n",
    "for dirname, _, filenames in os.walk('/kaggle/input'):\n",
    "    for filename in filenames:\n",
    "        print(os.path.join(dirname, filename))"
   ]
  },
  {
   "cell_type": "markdown",
   "id": "a5721259",
   "metadata": {
    "papermill": {
     "duration": 0.010808,
     "end_time": "2023-01-28T09:45:23.834482",
     "exception": false,
     "start_time": "2023-01-28T09:45:23.823674",
     "status": "completed"
    },
    "tags": []
   },
   "source": [
    "Lets get our data into working "
   ]
  },
  {
   "cell_type": "code",
   "execution_count": 2,
   "id": "7ed24e1a",
   "metadata": {
    "execution": {
     "iopub.execute_input": "2023-01-28T09:45:23.861624Z",
     "iopub.status.busy": "2023-01-28T09:45:23.861225Z",
     "iopub.status.idle": "2023-01-28T09:45:24.023427Z",
     "shell.execute_reply": "2023-01-28T09:45:24.022266Z"
    },
    "papermill": {
     "duration": 0.177461,
     "end_time": "2023-01-28T09:45:24.026210",
     "exception": false,
     "start_time": "2023-01-28T09:45:23.848749",
     "status": "completed"
    },
    "tags": []
   },
   "outputs": [],
   "source": [
    " data = pd.read_csv(\"/kaggle/input/hotel-reservations-classification-dataset/Hotel Reservations.csv\")"
   ]
  },
  {
   "cell_type": "markdown",
   "id": "6c7aa036",
   "metadata": {
    "papermill": {
     "duration": 0.011726,
     "end_time": "2023-01-28T09:45:24.049260",
     "exception": false,
     "start_time": "2023-01-28T09:45:24.037534",
     "status": "completed"
    },
    "tags": []
   },
   "source": [
    "It is a good practice to take a look at our dataset before processing it"
   ]
  },
  {
   "cell_type": "code",
   "execution_count": 3,
   "id": "747a2bcc",
   "metadata": {
    "execution": {
     "iopub.execute_input": "2023-01-28T09:45:24.073979Z",
     "iopub.status.busy": "2023-01-28T09:45:24.072913Z",
     "iopub.status.idle": "2023-01-28T09:45:24.109583Z",
     "shell.execute_reply": "2023-01-28T09:45:24.108380Z"
    },
    "papermill": {
     "duration": 0.051667,
     "end_time": "2023-01-28T09:45:24.112310",
     "exception": false,
     "start_time": "2023-01-28T09:45:24.060643",
     "status": "completed"
    },
    "tags": []
   },
   "outputs": [
    {
     "data": {
      "text/html": [
       "<div>\n",
       "<style scoped>\n",
       "    .dataframe tbody tr th:only-of-type {\n",
       "        vertical-align: middle;\n",
       "    }\n",
       "\n",
       "    .dataframe tbody tr th {\n",
       "        vertical-align: top;\n",
       "    }\n",
       "\n",
       "    .dataframe thead th {\n",
       "        text-align: right;\n",
       "    }\n",
       "</style>\n",
       "<table border=\"1\" class=\"dataframe\">\n",
       "  <thead>\n",
       "    <tr style=\"text-align: right;\">\n",
       "      <th></th>\n",
       "      <th>Booking_ID</th>\n",
       "      <th>no_of_adults</th>\n",
       "      <th>no_of_children</th>\n",
       "      <th>no_of_weekend_nights</th>\n",
       "      <th>no_of_week_nights</th>\n",
       "      <th>type_of_meal_plan</th>\n",
       "      <th>required_car_parking_space</th>\n",
       "      <th>room_type_reserved</th>\n",
       "      <th>lead_time</th>\n",
       "      <th>arrival_year</th>\n",
       "      <th>arrival_month</th>\n",
       "      <th>arrival_date</th>\n",
       "      <th>market_segment_type</th>\n",
       "      <th>repeated_guest</th>\n",
       "      <th>no_of_previous_cancellations</th>\n",
       "      <th>no_of_previous_bookings_not_canceled</th>\n",
       "      <th>avg_price_per_room</th>\n",
       "      <th>no_of_special_requests</th>\n",
       "      <th>booking_status</th>\n",
       "    </tr>\n",
       "  </thead>\n",
       "  <tbody>\n",
       "    <tr>\n",
       "      <th>0</th>\n",
       "      <td>INN00001</td>\n",
       "      <td>2</td>\n",
       "      <td>0</td>\n",
       "      <td>1</td>\n",
       "      <td>2</td>\n",
       "      <td>Meal Plan 1</td>\n",
       "      <td>0</td>\n",
       "      <td>Room_Type 1</td>\n",
       "      <td>224</td>\n",
       "      <td>2017</td>\n",
       "      <td>10</td>\n",
       "      <td>2</td>\n",
       "      <td>Offline</td>\n",
       "      <td>0</td>\n",
       "      <td>0</td>\n",
       "      <td>0</td>\n",
       "      <td>65.00</td>\n",
       "      <td>0</td>\n",
       "      <td>Not_Canceled</td>\n",
       "    </tr>\n",
       "    <tr>\n",
       "      <th>1</th>\n",
       "      <td>INN00002</td>\n",
       "      <td>2</td>\n",
       "      <td>0</td>\n",
       "      <td>2</td>\n",
       "      <td>3</td>\n",
       "      <td>Not Selected</td>\n",
       "      <td>0</td>\n",
       "      <td>Room_Type 1</td>\n",
       "      <td>5</td>\n",
       "      <td>2018</td>\n",
       "      <td>11</td>\n",
       "      <td>6</td>\n",
       "      <td>Online</td>\n",
       "      <td>0</td>\n",
       "      <td>0</td>\n",
       "      <td>0</td>\n",
       "      <td>106.68</td>\n",
       "      <td>1</td>\n",
       "      <td>Not_Canceled</td>\n",
       "    </tr>\n",
       "    <tr>\n",
       "      <th>2</th>\n",
       "      <td>INN00003</td>\n",
       "      <td>1</td>\n",
       "      <td>0</td>\n",
       "      <td>2</td>\n",
       "      <td>1</td>\n",
       "      <td>Meal Plan 1</td>\n",
       "      <td>0</td>\n",
       "      <td>Room_Type 1</td>\n",
       "      <td>1</td>\n",
       "      <td>2018</td>\n",
       "      <td>2</td>\n",
       "      <td>28</td>\n",
       "      <td>Online</td>\n",
       "      <td>0</td>\n",
       "      <td>0</td>\n",
       "      <td>0</td>\n",
       "      <td>60.00</td>\n",
       "      <td>0</td>\n",
       "      <td>Canceled</td>\n",
       "    </tr>\n",
       "    <tr>\n",
       "      <th>3</th>\n",
       "      <td>INN00004</td>\n",
       "      <td>2</td>\n",
       "      <td>0</td>\n",
       "      <td>0</td>\n",
       "      <td>2</td>\n",
       "      <td>Meal Plan 1</td>\n",
       "      <td>0</td>\n",
       "      <td>Room_Type 1</td>\n",
       "      <td>211</td>\n",
       "      <td>2018</td>\n",
       "      <td>5</td>\n",
       "      <td>20</td>\n",
       "      <td>Online</td>\n",
       "      <td>0</td>\n",
       "      <td>0</td>\n",
       "      <td>0</td>\n",
       "      <td>100.00</td>\n",
       "      <td>0</td>\n",
       "      <td>Canceled</td>\n",
       "    </tr>\n",
       "    <tr>\n",
       "      <th>4</th>\n",
       "      <td>INN00005</td>\n",
       "      <td>2</td>\n",
       "      <td>0</td>\n",
       "      <td>1</td>\n",
       "      <td>1</td>\n",
       "      <td>Not Selected</td>\n",
       "      <td>0</td>\n",
       "      <td>Room_Type 1</td>\n",
       "      <td>48</td>\n",
       "      <td>2018</td>\n",
       "      <td>4</td>\n",
       "      <td>11</td>\n",
       "      <td>Online</td>\n",
       "      <td>0</td>\n",
       "      <td>0</td>\n",
       "      <td>0</td>\n",
       "      <td>94.50</td>\n",
       "      <td>0</td>\n",
       "      <td>Canceled</td>\n",
       "    </tr>\n",
       "    <tr>\n",
       "      <th>...</th>\n",
       "      <td>...</td>\n",
       "      <td>...</td>\n",
       "      <td>...</td>\n",
       "      <td>...</td>\n",
       "      <td>...</td>\n",
       "      <td>...</td>\n",
       "      <td>...</td>\n",
       "      <td>...</td>\n",
       "      <td>...</td>\n",
       "      <td>...</td>\n",
       "      <td>...</td>\n",
       "      <td>...</td>\n",
       "      <td>...</td>\n",
       "      <td>...</td>\n",
       "      <td>...</td>\n",
       "      <td>...</td>\n",
       "      <td>...</td>\n",
       "      <td>...</td>\n",
       "      <td>...</td>\n",
       "    </tr>\n",
       "    <tr>\n",
       "      <th>36270</th>\n",
       "      <td>INN36271</td>\n",
       "      <td>3</td>\n",
       "      <td>0</td>\n",
       "      <td>2</td>\n",
       "      <td>6</td>\n",
       "      <td>Meal Plan 1</td>\n",
       "      <td>0</td>\n",
       "      <td>Room_Type 4</td>\n",
       "      <td>85</td>\n",
       "      <td>2018</td>\n",
       "      <td>8</td>\n",
       "      <td>3</td>\n",
       "      <td>Online</td>\n",
       "      <td>0</td>\n",
       "      <td>0</td>\n",
       "      <td>0</td>\n",
       "      <td>167.80</td>\n",
       "      <td>1</td>\n",
       "      <td>Not_Canceled</td>\n",
       "    </tr>\n",
       "    <tr>\n",
       "      <th>36271</th>\n",
       "      <td>INN36272</td>\n",
       "      <td>2</td>\n",
       "      <td>0</td>\n",
       "      <td>1</td>\n",
       "      <td>3</td>\n",
       "      <td>Meal Plan 1</td>\n",
       "      <td>0</td>\n",
       "      <td>Room_Type 1</td>\n",
       "      <td>228</td>\n",
       "      <td>2018</td>\n",
       "      <td>10</td>\n",
       "      <td>17</td>\n",
       "      <td>Online</td>\n",
       "      <td>0</td>\n",
       "      <td>0</td>\n",
       "      <td>0</td>\n",
       "      <td>90.95</td>\n",
       "      <td>2</td>\n",
       "      <td>Canceled</td>\n",
       "    </tr>\n",
       "    <tr>\n",
       "      <th>36272</th>\n",
       "      <td>INN36273</td>\n",
       "      <td>2</td>\n",
       "      <td>0</td>\n",
       "      <td>2</td>\n",
       "      <td>6</td>\n",
       "      <td>Meal Plan 1</td>\n",
       "      <td>0</td>\n",
       "      <td>Room_Type 1</td>\n",
       "      <td>148</td>\n",
       "      <td>2018</td>\n",
       "      <td>7</td>\n",
       "      <td>1</td>\n",
       "      <td>Online</td>\n",
       "      <td>0</td>\n",
       "      <td>0</td>\n",
       "      <td>0</td>\n",
       "      <td>98.39</td>\n",
       "      <td>2</td>\n",
       "      <td>Not_Canceled</td>\n",
       "    </tr>\n",
       "    <tr>\n",
       "      <th>36273</th>\n",
       "      <td>INN36274</td>\n",
       "      <td>2</td>\n",
       "      <td>0</td>\n",
       "      <td>0</td>\n",
       "      <td>3</td>\n",
       "      <td>Not Selected</td>\n",
       "      <td>0</td>\n",
       "      <td>Room_Type 1</td>\n",
       "      <td>63</td>\n",
       "      <td>2018</td>\n",
       "      <td>4</td>\n",
       "      <td>21</td>\n",
       "      <td>Online</td>\n",
       "      <td>0</td>\n",
       "      <td>0</td>\n",
       "      <td>0</td>\n",
       "      <td>94.50</td>\n",
       "      <td>0</td>\n",
       "      <td>Canceled</td>\n",
       "    </tr>\n",
       "    <tr>\n",
       "      <th>36274</th>\n",
       "      <td>INN36275</td>\n",
       "      <td>2</td>\n",
       "      <td>0</td>\n",
       "      <td>1</td>\n",
       "      <td>2</td>\n",
       "      <td>Meal Plan 1</td>\n",
       "      <td>0</td>\n",
       "      <td>Room_Type 1</td>\n",
       "      <td>207</td>\n",
       "      <td>2018</td>\n",
       "      <td>12</td>\n",
       "      <td>30</td>\n",
       "      <td>Offline</td>\n",
       "      <td>0</td>\n",
       "      <td>0</td>\n",
       "      <td>0</td>\n",
       "      <td>161.67</td>\n",
       "      <td>0</td>\n",
       "      <td>Not_Canceled</td>\n",
       "    </tr>\n",
       "  </tbody>\n",
       "</table>\n",
       "<p>36275 rows × 19 columns</p>\n",
       "</div>"
      ],
      "text/plain": [
       "      Booking_ID  no_of_adults  no_of_children  no_of_weekend_nights  \\\n",
       "0       INN00001             2               0                     1   \n",
       "1       INN00002             2               0                     2   \n",
       "2       INN00003             1               0                     2   \n",
       "3       INN00004             2               0                     0   \n",
       "4       INN00005             2               0                     1   \n",
       "...          ...           ...             ...                   ...   \n",
       "36270   INN36271             3               0                     2   \n",
       "36271   INN36272             2               0                     1   \n",
       "36272   INN36273             2               0                     2   \n",
       "36273   INN36274             2               0                     0   \n",
       "36274   INN36275             2               0                     1   \n",
       "\n",
       "       no_of_week_nights type_of_meal_plan  required_car_parking_space  \\\n",
       "0                      2       Meal Plan 1                           0   \n",
       "1                      3      Not Selected                           0   \n",
       "2                      1       Meal Plan 1                           0   \n",
       "3                      2       Meal Plan 1                           0   \n",
       "4                      1      Not Selected                           0   \n",
       "...                  ...               ...                         ...   \n",
       "36270                  6       Meal Plan 1                           0   \n",
       "36271                  3       Meal Plan 1                           0   \n",
       "36272                  6       Meal Plan 1                           0   \n",
       "36273                  3      Not Selected                           0   \n",
       "36274                  2       Meal Plan 1                           0   \n",
       "\n",
       "      room_type_reserved  lead_time  arrival_year  arrival_month  \\\n",
       "0            Room_Type 1        224          2017             10   \n",
       "1            Room_Type 1          5          2018             11   \n",
       "2            Room_Type 1          1          2018              2   \n",
       "3            Room_Type 1        211          2018              5   \n",
       "4            Room_Type 1         48          2018              4   \n",
       "...                  ...        ...           ...            ...   \n",
       "36270        Room_Type 4         85          2018              8   \n",
       "36271        Room_Type 1        228          2018             10   \n",
       "36272        Room_Type 1        148          2018              7   \n",
       "36273        Room_Type 1         63          2018              4   \n",
       "36274        Room_Type 1        207          2018             12   \n",
       "\n",
       "       arrival_date market_segment_type  repeated_guest  \\\n",
       "0                 2             Offline               0   \n",
       "1                 6              Online               0   \n",
       "2                28              Online               0   \n",
       "3                20              Online               0   \n",
       "4                11              Online               0   \n",
       "...             ...                 ...             ...   \n",
       "36270             3              Online               0   \n",
       "36271            17              Online               0   \n",
       "36272             1              Online               0   \n",
       "36273            21              Online               0   \n",
       "36274            30             Offline               0   \n",
       "\n",
       "       no_of_previous_cancellations  no_of_previous_bookings_not_canceled  \\\n",
       "0                                 0                                     0   \n",
       "1                                 0                                     0   \n",
       "2                                 0                                     0   \n",
       "3                                 0                                     0   \n",
       "4                                 0                                     0   \n",
       "...                             ...                                   ...   \n",
       "36270                             0                                     0   \n",
       "36271                             0                                     0   \n",
       "36272                             0                                     0   \n",
       "36273                             0                                     0   \n",
       "36274                             0                                     0   \n",
       "\n",
       "       avg_price_per_room  no_of_special_requests booking_status  \n",
       "0                   65.00                       0   Not_Canceled  \n",
       "1                  106.68                       1   Not_Canceled  \n",
       "2                   60.00                       0       Canceled  \n",
       "3                  100.00                       0       Canceled  \n",
       "4                   94.50                       0       Canceled  \n",
       "...                   ...                     ...            ...  \n",
       "36270              167.80                       1   Not_Canceled  \n",
       "36271               90.95                       2       Canceled  \n",
       "36272               98.39                       2   Not_Canceled  \n",
       "36273               94.50                       0       Canceled  \n",
       "36274              161.67                       0   Not_Canceled  \n",
       "\n",
       "[36275 rows x 19 columns]"
      ]
     },
     "execution_count": 3,
     "metadata": {},
     "output_type": "execute_result"
    }
   ],
   "source": [
    "data"
   ]
  },
  {
   "cell_type": "markdown",
   "id": "aa7f9f71",
   "metadata": {
    "papermill": {
     "duration": 0.011227,
     "end_time": "2023-01-28T09:45:24.135199",
     "exception": false,
     "start_time": "2023-01-28T09:45:24.123972",
     "status": "completed"
    },
    "tags": []
   },
   "source": [
    "So the data set has `36275 rows` and `19 columns` accounting to `689,225 values`. This huge number of data will really help us in making a good model "
   ]
  },
  {
   "cell_type": "markdown",
   "id": "a67cdb24",
   "metadata": {
    "papermill": {
     "duration": 0.011248,
     "end_time": "2023-01-28T09:45:24.157878",
     "exception": false,
     "start_time": "2023-01-28T09:45:24.146630",
     "status": "completed"
    },
    "tags": []
   },
   "source": [
    "Booking_ID is unique for every row and may decrease the efficiency of the model. So lets delete this column"
   ]
  },
  {
   "cell_type": "code",
   "execution_count": 4,
   "id": "c5a8fc59",
   "metadata": {
    "execution": {
     "iopub.execute_input": "2023-01-28T09:45:24.183022Z",
     "iopub.status.busy": "2023-01-28T09:45:24.182641Z",
     "iopub.status.idle": "2023-01-28T09:45:24.197222Z",
     "shell.execute_reply": "2023-01-28T09:45:24.196348Z"
    },
    "papermill": {
     "duration": 0.029655,
     "end_time": "2023-01-28T09:45:24.199447",
     "exception": false,
     "start_time": "2023-01-28T09:45:24.169792",
     "status": "completed"
    },
    "tags": []
   },
   "outputs": [],
   "source": [
    "data.drop(\"Booking_ID\" , axis = 1 , inplace = True)"
   ]
  },
  {
   "cell_type": "code",
   "execution_count": 5,
   "id": "c5f1109a",
   "metadata": {
    "execution": {
     "iopub.execute_input": "2023-01-28T09:45:24.224426Z",
     "iopub.status.busy": "2023-01-28T09:45:24.224009Z",
     "iopub.status.idle": "2023-01-28T09:45:24.249058Z",
     "shell.execute_reply": "2023-01-28T09:45:24.248021Z"
    },
    "papermill": {
     "duration": 0.040295,
     "end_time": "2023-01-28T09:45:24.251418",
     "exception": false,
     "start_time": "2023-01-28T09:45:24.211123",
     "status": "completed"
    },
    "tags": []
   },
   "outputs": [
    {
     "data": {
      "text/html": [
       "<div>\n",
       "<style scoped>\n",
       "    .dataframe tbody tr th:only-of-type {\n",
       "        vertical-align: middle;\n",
       "    }\n",
       "\n",
       "    .dataframe tbody tr th {\n",
       "        vertical-align: top;\n",
       "    }\n",
       "\n",
       "    .dataframe thead th {\n",
       "        text-align: right;\n",
       "    }\n",
       "</style>\n",
       "<table border=\"1\" class=\"dataframe\">\n",
       "  <thead>\n",
       "    <tr style=\"text-align: right;\">\n",
       "      <th></th>\n",
       "      <th>no_of_adults</th>\n",
       "      <th>no_of_children</th>\n",
       "      <th>no_of_weekend_nights</th>\n",
       "      <th>no_of_week_nights</th>\n",
       "      <th>type_of_meal_plan</th>\n",
       "      <th>required_car_parking_space</th>\n",
       "      <th>room_type_reserved</th>\n",
       "      <th>lead_time</th>\n",
       "      <th>arrival_year</th>\n",
       "      <th>arrival_month</th>\n",
       "      <th>arrival_date</th>\n",
       "      <th>market_segment_type</th>\n",
       "      <th>repeated_guest</th>\n",
       "      <th>no_of_previous_cancellations</th>\n",
       "      <th>no_of_previous_bookings_not_canceled</th>\n",
       "      <th>avg_price_per_room</th>\n",
       "      <th>no_of_special_requests</th>\n",
       "      <th>booking_status</th>\n",
       "    </tr>\n",
       "  </thead>\n",
       "  <tbody>\n",
       "    <tr>\n",
       "      <th>0</th>\n",
       "      <td>2</td>\n",
       "      <td>0</td>\n",
       "      <td>1</td>\n",
       "      <td>2</td>\n",
       "      <td>Meal Plan 1</td>\n",
       "      <td>0</td>\n",
       "      <td>Room_Type 1</td>\n",
       "      <td>224</td>\n",
       "      <td>2017</td>\n",
       "      <td>10</td>\n",
       "      <td>2</td>\n",
       "      <td>Offline</td>\n",
       "      <td>0</td>\n",
       "      <td>0</td>\n",
       "      <td>0</td>\n",
       "      <td>65.00</td>\n",
       "      <td>0</td>\n",
       "      <td>Not_Canceled</td>\n",
       "    </tr>\n",
       "    <tr>\n",
       "      <th>1</th>\n",
       "      <td>2</td>\n",
       "      <td>0</td>\n",
       "      <td>2</td>\n",
       "      <td>3</td>\n",
       "      <td>Not Selected</td>\n",
       "      <td>0</td>\n",
       "      <td>Room_Type 1</td>\n",
       "      <td>5</td>\n",
       "      <td>2018</td>\n",
       "      <td>11</td>\n",
       "      <td>6</td>\n",
       "      <td>Online</td>\n",
       "      <td>0</td>\n",
       "      <td>0</td>\n",
       "      <td>0</td>\n",
       "      <td>106.68</td>\n",
       "      <td>1</td>\n",
       "      <td>Not_Canceled</td>\n",
       "    </tr>\n",
       "    <tr>\n",
       "      <th>2</th>\n",
       "      <td>1</td>\n",
       "      <td>0</td>\n",
       "      <td>2</td>\n",
       "      <td>1</td>\n",
       "      <td>Meal Plan 1</td>\n",
       "      <td>0</td>\n",
       "      <td>Room_Type 1</td>\n",
       "      <td>1</td>\n",
       "      <td>2018</td>\n",
       "      <td>2</td>\n",
       "      <td>28</td>\n",
       "      <td>Online</td>\n",
       "      <td>0</td>\n",
       "      <td>0</td>\n",
       "      <td>0</td>\n",
       "      <td>60.00</td>\n",
       "      <td>0</td>\n",
       "      <td>Canceled</td>\n",
       "    </tr>\n",
       "    <tr>\n",
       "      <th>3</th>\n",
       "      <td>2</td>\n",
       "      <td>0</td>\n",
       "      <td>0</td>\n",
       "      <td>2</td>\n",
       "      <td>Meal Plan 1</td>\n",
       "      <td>0</td>\n",
       "      <td>Room_Type 1</td>\n",
       "      <td>211</td>\n",
       "      <td>2018</td>\n",
       "      <td>5</td>\n",
       "      <td>20</td>\n",
       "      <td>Online</td>\n",
       "      <td>0</td>\n",
       "      <td>0</td>\n",
       "      <td>0</td>\n",
       "      <td>100.00</td>\n",
       "      <td>0</td>\n",
       "      <td>Canceled</td>\n",
       "    </tr>\n",
       "    <tr>\n",
       "      <th>4</th>\n",
       "      <td>2</td>\n",
       "      <td>0</td>\n",
       "      <td>1</td>\n",
       "      <td>1</td>\n",
       "      <td>Not Selected</td>\n",
       "      <td>0</td>\n",
       "      <td>Room_Type 1</td>\n",
       "      <td>48</td>\n",
       "      <td>2018</td>\n",
       "      <td>4</td>\n",
       "      <td>11</td>\n",
       "      <td>Online</td>\n",
       "      <td>0</td>\n",
       "      <td>0</td>\n",
       "      <td>0</td>\n",
       "      <td>94.50</td>\n",
       "      <td>0</td>\n",
       "      <td>Canceled</td>\n",
       "    </tr>\n",
       "    <tr>\n",
       "      <th>...</th>\n",
       "      <td>...</td>\n",
       "      <td>...</td>\n",
       "      <td>...</td>\n",
       "      <td>...</td>\n",
       "      <td>...</td>\n",
       "      <td>...</td>\n",
       "      <td>...</td>\n",
       "      <td>...</td>\n",
       "      <td>...</td>\n",
       "      <td>...</td>\n",
       "      <td>...</td>\n",
       "      <td>...</td>\n",
       "      <td>...</td>\n",
       "      <td>...</td>\n",
       "      <td>...</td>\n",
       "      <td>...</td>\n",
       "      <td>...</td>\n",
       "      <td>...</td>\n",
       "    </tr>\n",
       "    <tr>\n",
       "      <th>36270</th>\n",
       "      <td>3</td>\n",
       "      <td>0</td>\n",
       "      <td>2</td>\n",
       "      <td>6</td>\n",
       "      <td>Meal Plan 1</td>\n",
       "      <td>0</td>\n",
       "      <td>Room_Type 4</td>\n",
       "      <td>85</td>\n",
       "      <td>2018</td>\n",
       "      <td>8</td>\n",
       "      <td>3</td>\n",
       "      <td>Online</td>\n",
       "      <td>0</td>\n",
       "      <td>0</td>\n",
       "      <td>0</td>\n",
       "      <td>167.80</td>\n",
       "      <td>1</td>\n",
       "      <td>Not_Canceled</td>\n",
       "    </tr>\n",
       "    <tr>\n",
       "      <th>36271</th>\n",
       "      <td>2</td>\n",
       "      <td>0</td>\n",
       "      <td>1</td>\n",
       "      <td>3</td>\n",
       "      <td>Meal Plan 1</td>\n",
       "      <td>0</td>\n",
       "      <td>Room_Type 1</td>\n",
       "      <td>228</td>\n",
       "      <td>2018</td>\n",
       "      <td>10</td>\n",
       "      <td>17</td>\n",
       "      <td>Online</td>\n",
       "      <td>0</td>\n",
       "      <td>0</td>\n",
       "      <td>0</td>\n",
       "      <td>90.95</td>\n",
       "      <td>2</td>\n",
       "      <td>Canceled</td>\n",
       "    </tr>\n",
       "    <tr>\n",
       "      <th>36272</th>\n",
       "      <td>2</td>\n",
       "      <td>0</td>\n",
       "      <td>2</td>\n",
       "      <td>6</td>\n",
       "      <td>Meal Plan 1</td>\n",
       "      <td>0</td>\n",
       "      <td>Room_Type 1</td>\n",
       "      <td>148</td>\n",
       "      <td>2018</td>\n",
       "      <td>7</td>\n",
       "      <td>1</td>\n",
       "      <td>Online</td>\n",
       "      <td>0</td>\n",
       "      <td>0</td>\n",
       "      <td>0</td>\n",
       "      <td>98.39</td>\n",
       "      <td>2</td>\n",
       "      <td>Not_Canceled</td>\n",
       "    </tr>\n",
       "    <tr>\n",
       "      <th>36273</th>\n",
       "      <td>2</td>\n",
       "      <td>0</td>\n",
       "      <td>0</td>\n",
       "      <td>3</td>\n",
       "      <td>Not Selected</td>\n",
       "      <td>0</td>\n",
       "      <td>Room_Type 1</td>\n",
       "      <td>63</td>\n",
       "      <td>2018</td>\n",
       "      <td>4</td>\n",
       "      <td>21</td>\n",
       "      <td>Online</td>\n",
       "      <td>0</td>\n",
       "      <td>0</td>\n",
       "      <td>0</td>\n",
       "      <td>94.50</td>\n",
       "      <td>0</td>\n",
       "      <td>Canceled</td>\n",
       "    </tr>\n",
       "    <tr>\n",
       "      <th>36274</th>\n",
       "      <td>2</td>\n",
       "      <td>0</td>\n",
       "      <td>1</td>\n",
       "      <td>2</td>\n",
       "      <td>Meal Plan 1</td>\n",
       "      <td>0</td>\n",
       "      <td>Room_Type 1</td>\n",
       "      <td>207</td>\n",
       "      <td>2018</td>\n",
       "      <td>12</td>\n",
       "      <td>30</td>\n",
       "      <td>Offline</td>\n",
       "      <td>0</td>\n",
       "      <td>0</td>\n",
       "      <td>0</td>\n",
       "      <td>161.67</td>\n",
       "      <td>0</td>\n",
       "      <td>Not_Canceled</td>\n",
       "    </tr>\n",
       "  </tbody>\n",
       "</table>\n",
       "<p>36275 rows × 18 columns</p>\n",
       "</div>"
      ],
      "text/plain": [
       "       no_of_adults  no_of_children  no_of_weekend_nights  no_of_week_nights  \\\n",
       "0                 2               0                     1                  2   \n",
       "1                 2               0                     2                  3   \n",
       "2                 1               0                     2                  1   \n",
       "3                 2               0                     0                  2   \n",
       "4                 2               0                     1                  1   \n",
       "...             ...             ...                   ...                ...   \n",
       "36270             3               0                     2                  6   \n",
       "36271             2               0                     1                  3   \n",
       "36272             2               0                     2                  6   \n",
       "36273             2               0                     0                  3   \n",
       "36274             2               0                     1                  2   \n",
       "\n",
       "      type_of_meal_plan  required_car_parking_space room_type_reserved  \\\n",
       "0           Meal Plan 1                           0        Room_Type 1   \n",
       "1          Not Selected                           0        Room_Type 1   \n",
       "2           Meal Plan 1                           0        Room_Type 1   \n",
       "3           Meal Plan 1                           0        Room_Type 1   \n",
       "4          Not Selected                           0        Room_Type 1   \n",
       "...                 ...                         ...                ...   \n",
       "36270       Meal Plan 1                           0        Room_Type 4   \n",
       "36271       Meal Plan 1                           0        Room_Type 1   \n",
       "36272       Meal Plan 1                           0        Room_Type 1   \n",
       "36273      Not Selected                           0        Room_Type 1   \n",
       "36274       Meal Plan 1                           0        Room_Type 1   \n",
       "\n",
       "       lead_time  arrival_year  arrival_month  arrival_date  \\\n",
       "0            224          2017             10             2   \n",
       "1              5          2018             11             6   \n",
       "2              1          2018              2            28   \n",
       "3            211          2018              5            20   \n",
       "4             48          2018              4            11   \n",
       "...          ...           ...            ...           ...   \n",
       "36270         85          2018              8             3   \n",
       "36271        228          2018             10            17   \n",
       "36272        148          2018              7             1   \n",
       "36273         63          2018              4            21   \n",
       "36274        207          2018             12            30   \n",
       "\n",
       "      market_segment_type  repeated_guest  no_of_previous_cancellations  \\\n",
       "0                 Offline               0                             0   \n",
       "1                  Online               0                             0   \n",
       "2                  Online               0                             0   \n",
       "3                  Online               0                             0   \n",
       "4                  Online               0                             0   \n",
       "...                   ...             ...                           ...   \n",
       "36270              Online               0                             0   \n",
       "36271              Online               0                             0   \n",
       "36272              Online               0                             0   \n",
       "36273              Online               0                             0   \n",
       "36274             Offline               0                             0   \n",
       "\n",
       "       no_of_previous_bookings_not_canceled  avg_price_per_room  \\\n",
       "0                                         0               65.00   \n",
       "1                                         0              106.68   \n",
       "2                                         0               60.00   \n",
       "3                                         0              100.00   \n",
       "4                                         0               94.50   \n",
       "...                                     ...                 ...   \n",
       "36270                                     0              167.80   \n",
       "36271                                     0               90.95   \n",
       "36272                                     0               98.39   \n",
       "36273                                     0               94.50   \n",
       "36274                                     0              161.67   \n",
       "\n",
       "       no_of_special_requests booking_status  \n",
       "0                           0   Not_Canceled  \n",
       "1                           1   Not_Canceled  \n",
       "2                           0       Canceled  \n",
       "3                           0       Canceled  \n",
       "4                           0       Canceled  \n",
       "...                       ...            ...  \n",
       "36270                       1   Not_Canceled  \n",
       "36271                       2       Canceled  \n",
       "36272                       2   Not_Canceled  \n",
       "36273                       0       Canceled  \n",
       "36274                       0   Not_Canceled  \n",
       "\n",
       "[36275 rows x 18 columns]"
      ]
     },
     "execution_count": 5,
     "metadata": {},
     "output_type": "execute_result"
    }
   ],
   "source": [
    "data"
   ]
  },
  {
   "cell_type": "markdown",
   "id": "b5f970f3",
   "metadata": {
    "papermill": {
     "duration": 0.011795,
     "end_time": "2023-01-28T09:45:24.275353",
     "exception": false,
     "start_time": "2023-01-28T09:45:24.263558",
     "status": "completed"
    },
    "tags": []
   },
   "source": [
    "So now we have `36,275 rows` and `18 columns` with `652,950 values`. Computer feels easier to understand and work on numerical value instead of string values. So lets get the datatypes of these values"
   ]
  },
  {
   "cell_type": "code",
   "execution_count": 6,
   "id": "beaf43d7",
   "metadata": {
    "execution": {
     "iopub.execute_input": "2023-01-28T09:45:24.301445Z",
     "iopub.status.busy": "2023-01-28T09:45:24.301035Z",
     "iopub.status.idle": "2023-01-28T09:45:24.331877Z",
     "shell.execute_reply": "2023-01-28T09:45:24.329878Z"
    },
    "papermill": {
     "duration": 0.046797,
     "end_time": "2023-01-28T09:45:24.334303",
     "exception": false,
     "start_time": "2023-01-28T09:45:24.287506",
     "status": "completed"
    },
    "tags": []
   },
   "outputs": [
    {
     "name": "stdout",
     "output_type": "stream",
     "text": [
      "<class 'pandas.core.frame.DataFrame'>\n",
      "RangeIndex: 36275 entries, 0 to 36274\n",
      "Data columns (total 18 columns):\n",
      " #   Column                                Non-Null Count  Dtype  \n",
      "---  ------                                --------------  -----  \n",
      " 0   no_of_adults                          36275 non-null  int64  \n",
      " 1   no_of_children                        36275 non-null  int64  \n",
      " 2   no_of_weekend_nights                  36275 non-null  int64  \n",
      " 3   no_of_week_nights                     36275 non-null  int64  \n",
      " 4   type_of_meal_plan                     36275 non-null  object \n",
      " 5   required_car_parking_space            36275 non-null  int64  \n",
      " 6   room_type_reserved                    36275 non-null  object \n",
      " 7   lead_time                             36275 non-null  int64  \n",
      " 8   arrival_year                          36275 non-null  int64  \n",
      " 9   arrival_month                         36275 non-null  int64  \n",
      " 10  arrival_date                          36275 non-null  int64  \n",
      " 11  market_segment_type                   36275 non-null  object \n",
      " 12  repeated_guest                        36275 non-null  int64  \n",
      " 13  no_of_previous_cancellations          36275 non-null  int64  \n",
      " 14  no_of_previous_bookings_not_canceled  36275 non-null  int64  \n",
      " 15  avg_price_per_room                    36275 non-null  float64\n",
      " 16  no_of_special_requests                36275 non-null  int64  \n",
      " 17  booking_status                        36275 non-null  object \n",
      "dtypes: float64(1), int64(13), object(4)\n",
      "memory usage: 5.0+ MB\n"
     ]
    }
   ],
   "source": [
    "data.info()"
   ]
  },
  {
   "cell_type": "markdown",
   "id": "5e6237ee",
   "metadata": {
    "papermill": {
     "duration": 0.012143,
     "end_time": "2023-01-28T09:45:24.359168",
     "exception": false,
     "start_time": "2023-01-28T09:45:24.347025",
     "status": "completed"
    },
    "tags": []
   },
   "source": [
    "As we can see there are 4 columns with object datatype, which are categorical. We need to encode these values into numbers. For this we will use `one hot encoder` from `sklearn.metrics`. You can take a glance of `one hot encoder` [here in english](https://youtu.be/agvfUvUNI4A) and more information would be available [here](https://scikit-learn.org/stable/modules/generated/sklearn.preprocessing.OneHotEncoder.html) "
   ]
  },
  {
   "cell_type": "markdown",
   "id": "816a60ab",
   "metadata": {
    "papermill": {
     "duration": 0.011684,
     "end_time": "2023-01-28T09:45:24.383184",
     "exception": false,
     "start_time": "2023-01-28T09:45:24.371500",
     "status": "completed"
    },
    "tags": []
   },
   "source": [
    "* `drop = \"first\"` is used to drop the first value or take only (n-1) values only \n",
    "* `sparse = \"False\"` to return a numpy array in the output  "
   ]
  },
  {
   "cell_type": "code",
   "execution_count": 7,
   "id": "1c245321",
   "metadata": {
    "execution": {
     "iopub.execute_input": "2023-01-28T09:45:24.408496Z",
     "iopub.status.busy": "2023-01-28T09:45:24.408066Z",
     "iopub.status.idle": "2023-01-28T09:45:24.413095Z",
     "shell.execute_reply": "2023-01-28T09:45:24.412122Z"
    },
    "papermill": {
     "duration": 0.020025,
     "end_time": "2023-01-28T09:45:24.415015",
     "exception": false,
     "start_time": "2023-01-28T09:45:24.394990",
     "status": "completed"
    },
    "tags": []
   },
   "outputs": [],
   "source": [
    "ohe = OneHotEncoder(drop = \"first\" , sparse = False)"
   ]
  },
  {
   "cell_type": "markdown",
   "id": "494f0c1c",
   "metadata": {
    "papermill": {
     "duration": 0.011983,
     "end_time": "2023-01-28T09:45:24.439128",
     "exception": false,
     "start_time": "2023-01-28T09:45:24.427145",
     "status": "completed"
    },
    "tags": []
   },
   "source": [
    "Now lets get the object values in one feild/list for better usage "
   ]
  },
  {
   "cell_type": "code",
   "execution_count": 8,
   "id": "2be4d719",
   "metadata": {
    "execution": {
     "iopub.execute_input": "2023-01-28T09:45:24.465262Z",
     "iopub.status.busy": "2023-01-28T09:45:24.464845Z",
     "iopub.status.idle": "2023-01-28T09:45:24.470460Z",
     "shell.execute_reply": "2023-01-28T09:45:24.469421Z"
    },
    "papermill": {
     "duration": 0.021148,
     "end_time": "2023-01-28T09:45:24.472403",
     "exception": false,
     "start_time": "2023-01-28T09:45:24.451255",
     "status": "completed"
    },
    "tags": []
   },
   "outputs": [],
   "source": [
    "cat = []\n",
    "for i in data.columns:\n",
    "    if data[i].dtypes == float or data[i].dtypes == int:\n",
    "        continue\n",
    "    else:\n",
    "        cat.append(i)"
   ]
  },
  {
   "cell_type": "markdown",
   "id": "986b0710",
   "metadata": {
    "papermill": {
     "duration": 0.011885,
     "end_time": "2023-01-28T09:45:24.496570",
     "exception": false,
     "start_time": "2023-01-28T09:45:24.484685",
     "status": "completed"
    },
    "tags": []
   },
   "source": [
    "Now lets encode our data, and name it `new_data`"
   ]
  },
  {
   "cell_type": "code",
   "execution_count": 9,
   "id": "0c334442",
   "metadata": {
    "execution": {
     "iopub.execute_input": "2023-01-28T09:45:24.522292Z",
     "iopub.status.busy": "2023-01-28T09:45:24.521884Z",
     "iopub.status.idle": "2023-01-28T09:45:24.591635Z",
     "shell.execute_reply": "2023-01-28T09:45:24.590500Z"
    },
    "papermill": {
     "duration": 0.085307,
     "end_time": "2023-01-28T09:45:24.594017",
     "exception": false,
     "start_time": "2023-01-28T09:45:24.508710",
     "status": "completed"
    },
    "tags": []
   },
   "outputs": [],
   "source": [
    "new_data = ohe.fit_transform(data[cat])"
   ]
  },
  {
   "cell_type": "markdown",
   "id": "d23c1486",
   "metadata": {
    "papermill": {
     "duration": 0.011744,
     "end_time": "2023-01-28T09:45:24.618127",
     "exception": false,
     "start_time": "2023-01-28T09:45:24.606383",
     "status": "completed"
    },
    "tags": []
   },
   "source": [
    "One hot encoder only encodes the data but do not combine the encodes data with the original dataset. We have to do it manually. So first lets drop the values that were encoded and store the values somewhere else. Just naming it, `half_data`"
   ]
  },
  {
   "cell_type": "code",
   "execution_count": 10,
   "id": "1da24c74",
   "metadata": {
    "execution": {
     "iopub.execute_input": "2023-01-28T09:45:24.643628Z",
     "iopub.status.busy": "2023-01-28T09:45:24.643217Z",
     "iopub.status.idle": "2023-01-28T09:45:24.650020Z",
     "shell.execute_reply": "2023-01-28T09:45:24.649014Z"
    },
    "papermill": {
     "duration": 0.022169,
     "end_time": "2023-01-28T09:45:24.652307",
     "exception": false,
     "start_time": "2023-01-28T09:45:24.630138",
     "status": "completed"
    },
    "tags": []
   },
   "outputs": [],
   "source": [
    "half_data = data.drop(cat , axis = 1)"
   ]
  },
  {
   "cell_type": "markdown",
   "id": "5757830e",
   "metadata": {
    "papermill": {
     "duration": 0.011897,
     "end_time": "2023-01-28T09:45:24.676546",
     "exception": false,
     "start_time": "2023-01-28T09:45:24.664649",
     "status": "completed"
    },
    "tags": []
   },
   "source": [
    "Now lets combine these datasets into one"
   ]
  },
  {
   "cell_type": "code",
   "execution_count": 11,
   "id": "7398fbf3",
   "metadata": {
    "execution": {
     "iopub.execute_input": "2023-01-28T09:45:24.702858Z",
     "iopub.status.busy": "2023-01-28T09:45:24.701896Z",
     "iopub.status.idle": "2023-01-28T09:45:24.715850Z",
     "shell.execute_reply": "2023-01-28T09:45:24.714811Z"
    },
    "papermill": {
     "duration": 0.02939,
     "end_time": "2023-01-28T09:45:24.718087",
     "exception": false,
     "start_time": "2023-01-28T09:45:24.688697",
     "status": "completed"
    },
    "tags": []
   },
   "outputs": [],
   "source": [
    "df = np.hstack((half_data.values , new_data))"
   ]
  },
  {
   "cell_type": "markdown",
   "id": "49164cc5",
   "metadata": {
    "papermill": {
     "duration": 0.011383,
     "end_time": "2023-01-28T09:45:24.741673",
     "exception": false,
     "start_time": "2023-01-28T09:45:24.730290",
     "status": "completed"
    },
    "tags": []
   },
   "source": [
    "The `df` here is not a dataframe, it is still a dictionary, we need to transform this into a dataframe "
   ]
  },
  {
   "cell_type": "code",
   "execution_count": 12,
   "id": "77ebbdfb",
   "metadata": {
    "execution": {
     "iopub.execute_input": "2023-01-28T09:45:24.766849Z",
     "iopub.status.busy": "2023-01-28T09:45:24.766467Z",
     "iopub.status.idle": "2023-01-28T09:45:24.817912Z",
     "shell.execute_reply": "2023-01-28T09:45:24.816791Z"
    },
    "papermill": {
     "duration": 0.066555,
     "end_time": "2023-01-28T09:45:24.819989",
     "exception": false,
     "start_time": "2023-01-28T09:45:24.753434",
     "status": "completed"
    },
    "tags": []
   },
   "outputs": [
    {
     "data": {
      "text/html": [
       "<div>\n",
       "<style scoped>\n",
       "    .dataframe tbody tr th:only-of-type {\n",
       "        vertical-align: middle;\n",
       "    }\n",
       "\n",
       "    .dataframe tbody tr th {\n",
       "        vertical-align: top;\n",
       "    }\n",
       "\n",
       "    .dataframe thead th {\n",
       "        text-align: right;\n",
       "    }\n",
       "</style>\n",
       "<table border=\"1\" class=\"dataframe\">\n",
       "  <thead>\n",
       "    <tr style=\"text-align: right;\">\n",
       "      <th></th>\n",
       "      <th>0</th>\n",
       "      <th>1</th>\n",
       "      <th>2</th>\n",
       "      <th>3</th>\n",
       "      <th>4</th>\n",
       "      <th>5</th>\n",
       "      <th>6</th>\n",
       "      <th>7</th>\n",
       "      <th>8</th>\n",
       "      <th>9</th>\n",
       "      <th>...</th>\n",
       "      <th>18</th>\n",
       "      <th>19</th>\n",
       "      <th>20</th>\n",
       "      <th>21</th>\n",
       "      <th>22</th>\n",
       "      <th>23</th>\n",
       "      <th>24</th>\n",
       "      <th>25</th>\n",
       "      <th>26</th>\n",
       "      <th>27</th>\n",
       "    </tr>\n",
       "  </thead>\n",
       "  <tbody>\n",
       "    <tr>\n",
       "      <th>0</th>\n",
       "      <td>2.0</td>\n",
       "      <td>0.0</td>\n",
       "      <td>1.0</td>\n",
       "      <td>2.0</td>\n",
       "      <td>0.0</td>\n",
       "      <td>224.0</td>\n",
       "      <td>2017.0</td>\n",
       "      <td>10.0</td>\n",
       "      <td>2.0</td>\n",
       "      <td>0.0</td>\n",
       "      <td>...</td>\n",
       "      <td>0.0</td>\n",
       "      <td>0.0</td>\n",
       "      <td>0.0</td>\n",
       "      <td>0.0</td>\n",
       "      <td>0.0</td>\n",
       "      <td>0.0</td>\n",
       "      <td>0.0</td>\n",
       "      <td>1.0</td>\n",
       "      <td>0.0</td>\n",
       "      <td>1.0</td>\n",
       "    </tr>\n",
       "    <tr>\n",
       "      <th>1</th>\n",
       "      <td>2.0</td>\n",
       "      <td>0.0</td>\n",
       "      <td>2.0</td>\n",
       "      <td>3.0</td>\n",
       "      <td>0.0</td>\n",
       "      <td>5.0</td>\n",
       "      <td>2018.0</td>\n",
       "      <td>11.0</td>\n",
       "      <td>6.0</td>\n",
       "      <td>0.0</td>\n",
       "      <td>...</td>\n",
       "      <td>0.0</td>\n",
       "      <td>0.0</td>\n",
       "      <td>0.0</td>\n",
       "      <td>0.0</td>\n",
       "      <td>0.0</td>\n",
       "      <td>0.0</td>\n",
       "      <td>0.0</td>\n",
       "      <td>0.0</td>\n",
       "      <td>1.0</td>\n",
       "      <td>1.0</td>\n",
       "    </tr>\n",
       "    <tr>\n",
       "      <th>2</th>\n",
       "      <td>1.0</td>\n",
       "      <td>0.0</td>\n",
       "      <td>2.0</td>\n",
       "      <td>1.0</td>\n",
       "      <td>0.0</td>\n",
       "      <td>1.0</td>\n",
       "      <td>2018.0</td>\n",
       "      <td>2.0</td>\n",
       "      <td>28.0</td>\n",
       "      <td>0.0</td>\n",
       "      <td>...</td>\n",
       "      <td>0.0</td>\n",
       "      <td>0.0</td>\n",
       "      <td>0.0</td>\n",
       "      <td>0.0</td>\n",
       "      <td>0.0</td>\n",
       "      <td>0.0</td>\n",
       "      <td>0.0</td>\n",
       "      <td>0.0</td>\n",
       "      <td>1.0</td>\n",
       "      <td>0.0</td>\n",
       "    </tr>\n",
       "    <tr>\n",
       "      <th>3</th>\n",
       "      <td>2.0</td>\n",
       "      <td>0.0</td>\n",
       "      <td>0.0</td>\n",
       "      <td>2.0</td>\n",
       "      <td>0.0</td>\n",
       "      <td>211.0</td>\n",
       "      <td>2018.0</td>\n",
       "      <td>5.0</td>\n",
       "      <td>20.0</td>\n",
       "      <td>0.0</td>\n",
       "      <td>...</td>\n",
       "      <td>0.0</td>\n",
       "      <td>0.0</td>\n",
       "      <td>0.0</td>\n",
       "      <td>0.0</td>\n",
       "      <td>0.0</td>\n",
       "      <td>0.0</td>\n",
       "      <td>0.0</td>\n",
       "      <td>0.0</td>\n",
       "      <td>1.0</td>\n",
       "      <td>0.0</td>\n",
       "    </tr>\n",
       "    <tr>\n",
       "      <th>4</th>\n",
       "      <td>2.0</td>\n",
       "      <td>0.0</td>\n",
       "      <td>1.0</td>\n",
       "      <td>1.0</td>\n",
       "      <td>0.0</td>\n",
       "      <td>48.0</td>\n",
       "      <td>2018.0</td>\n",
       "      <td>4.0</td>\n",
       "      <td>11.0</td>\n",
       "      <td>0.0</td>\n",
       "      <td>...</td>\n",
       "      <td>0.0</td>\n",
       "      <td>0.0</td>\n",
       "      <td>0.0</td>\n",
       "      <td>0.0</td>\n",
       "      <td>0.0</td>\n",
       "      <td>0.0</td>\n",
       "      <td>0.0</td>\n",
       "      <td>0.0</td>\n",
       "      <td>1.0</td>\n",
       "      <td>0.0</td>\n",
       "    </tr>\n",
       "    <tr>\n",
       "      <th>...</th>\n",
       "      <td>...</td>\n",
       "      <td>...</td>\n",
       "      <td>...</td>\n",
       "      <td>...</td>\n",
       "      <td>...</td>\n",
       "      <td>...</td>\n",
       "      <td>...</td>\n",
       "      <td>...</td>\n",
       "      <td>...</td>\n",
       "      <td>...</td>\n",
       "      <td>...</td>\n",
       "      <td>...</td>\n",
       "      <td>...</td>\n",
       "      <td>...</td>\n",
       "      <td>...</td>\n",
       "      <td>...</td>\n",
       "      <td>...</td>\n",
       "      <td>...</td>\n",
       "      <td>...</td>\n",
       "      <td>...</td>\n",
       "      <td>...</td>\n",
       "    </tr>\n",
       "    <tr>\n",
       "      <th>36270</th>\n",
       "      <td>3.0</td>\n",
       "      <td>0.0</td>\n",
       "      <td>2.0</td>\n",
       "      <td>6.0</td>\n",
       "      <td>0.0</td>\n",
       "      <td>85.0</td>\n",
       "      <td>2018.0</td>\n",
       "      <td>8.0</td>\n",
       "      <td>3.0</td>\n",
       "      <td>0.0</td>\n",
       "      <td>...</td>\n",
       "      <td>0.0</td>\n",
       "      <td>1.0</td>\n",
       "      <td>0.0</td>\n",
       "      <td>0.0</td>\n",
       "      <td>0.0</td>\n",
       "      <td>0.0</td>\n",
       "      <td>0.0</td>\n",
       "      <td>0.0</td>\n",
       "      <td>1.0</td>\n",
       "      <td>1.0</td>\n",
       "    </tr>\n",
       "    <tr>\n",
       "      <th>36271</th>\n",
       "      <td>2.0</td>\n",
       "      <td>0.0</td>\n",
       "      <td>1.0</td>\n",
       "      <td>3.0</td>\n",
       "      <td>0.0</td>\n",
       "      <td>228.0</td>\n",
       "      <td>2018.0</td>\n",
       "      <td>10.0</td>\n",
       "      <td>17.0</td>\n",
       "      <td>0.0</td>\n",
       "      <td>...</td>\n",
       "      <td>0.0</td>\n",
       "      <td>0.0</td>\n",
       "      <td>0.0</td>\n",
       "      <td>0.0</td>\n",
       "      <td>0.0</td>\n",
       "      <td>0.0</td>\n",
       "      <td>0.0</td>\n",
       "      <td>0.0</td>\n",
       "      <td>1.0</td>\n",
       "      <td>0.0</td>\n",
       "    </tr>\n",
       "    <tr>\n",
       "      <th>36272</th>\n",
       "      <td>2.0</td>\n",
       "      <td>0.0</td>\n",
       "      <td>2.0</td>\n",
       "      <td>6.0</td>\n",
       "      <td>0.0</td>\n",
       "      <td>148.0</td>\n",
       "      <td>2018.0</td>\n",
       "      <td>7.0</td>\n",
       "      <td>1.0</td>\n",
       "      <td>0.0</td>\n",
       "      <td>...</td>\n",
       "      <td>0.0</td>\n",
       "      <td>0.0</td>\n",
       "      <td>0.0</td>\n",
       "      <td>0.0</td>\n",
       "      <td>0.0</td>\n",
       "      <td>0.0</td>\n",
       "      <td>0.0</td>\n",
       "      <td>0.0</td>\n",
       "      <td>1.0</td>\n",
       "      <td>1.0</td>\n",
       "    </tr>\n",
       "    <tr>\n",
       "      <th>36273</th>\n",
       "      <td>2.0</td>\n",
       "      <td>0.0</td>\n",
       "      <td>0.0</td>\n",
       "      <td>3.0</td>\n",
       "      <td>0.0</td>\n",
       "      <td>63.0</td>\n",
       "      <td>2018.0</td>\n",
       "      <td>4.0</td>\n",
       "      <td>21.0</td>\n",
       "      <td>0.0</td>\n",
       "      <td>...</td>\n",
       "      <td>0.0</td>\n",
       "      <td>0.0</td>\n",
       "      <td>0.0</td>\n",
       "      <td>0.0</td>\n",
       "      <td>0.0</td>\n",
       "      <td>0.0</td>\n",
       "      <td>0.0</td>\n",
       "      <td>0.0</td>\n",
       "      <td>1.0</td>\n",
       "      <td>0.0</td>\n",
       "    </tr>\n",
       "    <tr>\n",
       "      <th>36274</th>\n",
       "      <td>2.0</td>\n",
       "      <td>0.0</td>\n",
       "      <td>1.0</td>\n",
       "      <td>2.0</td>\n",
       "      <td>0.0</td>\n",
       "      <td>207.0</td>\n",
       "      <td>2018.0</td>\n",
       "      <td>12.0</td>\n",
       "      <td>30.0</td>\n",
       "      <td>0.0</td>\n",
       "      <td>...</td>\n",
       "      <td>0.0</td>\n",
       "      <td>0.0</td>\n",
       "      <td>0.0</td>\n",
       "      <td>0.0</td>\n",
       "      <td>0.0</td>\n",
       "      <td>0.0</td>\n",
       "      <td>0.0</td>\n",
       "      <td>1.0</td>\n",
       "      <td>0.0</td>\n",
       "      <td>1.0</td>\n",
       "    </tr>\n",
       "  </tbody>\n",
       "</table>\n",
       "<p>36275 rows × 28 columns</p>\n",
       "</div>"
      ],
      "text/plain": [
       "        0    1    2    3    4      5       6     7     8    9   ...   18   19  \\\n",
       "0      2.0  0.0  1.0  2.0  0.0  224.0  2017.0  10.0   2.0  0.0  ...  0.0  0.0   \n",
       "1      2.0  0.0  2.0  3.0  0.0    5.0  2018.0  11.0   6.0  0.0  ...  0.0  0.0   \n",
       "2      1.0  0.0  2.0  1.0  0.0    1.0  2018.0   2.0  28.0  0.0  ...  0.0  0.0   \n",
       "3      2.0  0.0  0.0  2.0  0.0  211.0  2018.0   5.0  20.0  0.0  ...  0.0  0.0   \n",
       "4      2.0  0.0  1.0  1.0  0.0   48.0  2018.0   4.0  11.0  0.0  ...  0.0  0.0   \n",
       "...    ...  ...  ...  ...  ...    ...     ...   ...   ...  ...  ...  ...  ...   \n",
       "36270  3.0  0.0  2.0  6.0  0.0   85.0  2018.0   8.0   3.0  0.0  ...  0.0  1.0   \n",
       "36271  2.0  0.0  1.0  3.0  0.0  228.0  2018.0  10.0  17.0  0.0  ...  0.0  0.0   \n",
       "36272  2.0  0.0  2.0  6.0  0.0  148.0  2018.0   7.0   1.0  0.0  ...  0.0  0.0   \n",
       "36273  2.0  0.0  0.0  3.0  0.0   63.0  2018.0   4.0  21.0  0.0  ...  0.0  0.0   \n",
       "36274  2.0  0.0  1.0  2.0  0.0  207.0  2018.0  12.0  30.0  0.0  ...  0.0  0.0   \n",
       "\n",
       "        20   21   22   23   24   25   26   27  \n",
       "0      0.0  0.0  0.0  0.0  0.0  1.0  0.0  1.0  \n",
       "1      0.0  0.0  0.0  0.0  0.0  0.0  1.0  1.0  \n",
       "2      0.0  0.0  0.0  0.0  0.0  0.0  1.0  0.0  \n",
       "3      0.0  0.0  0.0  0.0  0.0  0.0  1.0  0.0  \n",
       "4      0.0  0.0  0.0  0.0  0.0  0.0  1.0  0.0  \n",
       "...    ...  ...  ...  ...  ...  ...  ...  ...  \n",
       "36270  0.0  0.0  0.0  0.0  0.0  0.0  1.0  1.0  \n",
       "36271  0.0  0.0  0.0  0.0  0.0  0.0  1.0  0.0  \n",
       "36272  0.0  0.0  0.0  0.0  0.0  0.0  1.0  1.0  \n",
       "36273  0.0  0.0  0.0  0.0  0.0  0.0  1.0  0.0  \n",
       "36274  0.0  0.0  0.0  0.0  0.0  1.0  0.0  1.0  \n",
       "\n",
       "[36275 rows x 28 columns]"
      ]
     },
     "execution_count": 12,
     "metadata": {},
     "output_type": "execute_result"
    }
   ],
   "source": [
    "df = pd.DataFrame(df)\n",
    "df"
   ]
  },
  {
   "cell_type": "markdown",
   "id": "4693241c",
   "metadata": {
    "papermill": {
     "duration": 0.011992,
     "end_time": "2023-01-28T09:45:24.844653",
     "exception": false,
     "start_time": "2023-01-28T09:45:24.832661",
     "status": "completed"
    },
    "tags": []
   },
   "source": [
    "Now if we get the datatypes of the data, they will all be numerical "
   ]
  },
  {
   "cell_type": "code",
   "execution_count": 13,
   "id": "8805d917",
   "metadata": {
    "execution": {
     "iopub.execute_input": "2023-01-28T09:45:24.870998Z",
     "iopub.status.busy": "2023-01-28T09:45:24.870565Z",
     "iopub.status.idle": "2023-01-28T09:45:24.886319Z",
     "shell.execute_reply": "2023-01-28T09:45:24.884967Z"
    },
    "papermill": {
     "duration": 0.03189,
     "end_time": "2023-01-28T09:45:24.888816",
     "exception": false,
     "start_time": "2023-01-28T09:45:24.856926",
     "status": "completed"
    },
    "tags": []
   },
   "outputs": [
    {
     "name": "stdout",
     "output_type": "stream",
     "text": [
      "<class 'pandas.core.frame.DataFrame'>\n",
      "RangeIndex: 36275 entries, 0 to 36274\n",
      "Data columns (total 28 columns):\n",
      " #   Column  Non-Null Count  Dtype  \n",
      "---  ------  --------------  -----  \n",
      " 0   0       36275 non-null  float64\n",
      " 1   1       36275 non-null  float64\n",
      " 2   2       36275 non-null  float64\n",
      " 3   3       36275 non-null  float64\n",
      " 4   4       36275 non-null  float64\n",
      " 5   5       36275 non-null  float64\n",
      " 6   6       36275 non-null  float64\n",
      " 7   7       36275 non-null  float64\n",
      " 8   8       36275 non-null  float64\n",
      " 9   9       36275 non-null  float64\n",
      " 10  10      36275 non-null  float64\n",
      " 11  11      36275 non-null  float64\n",
      " 12  12      36275 non-null  float64\n",
      " 13  13      36275 non-null  float64\n",
      " 14  14      36275 non-null  float64\n",
      " 15  15      36275 non-null  float64\n",
      " 16  16      36275 non-null  float64\n",
      " 17  17      36275 non-null  float64\n",
      " 18  18      36275 non-null  float64\n",
      " 19  19      36275 non-null  float64\n",
      " 20  20      36275 non-null  float64\n",
      " 21  21      36275 non-null  float64\n",
      " 22  22      36275 non-null  float64\n",
      " 23  23      36275 non-null  float64\n",
      " 24  24      36275 non-null  float64\n",
      " 25  25      36275 non-null  float64\n",
      " 26  26      36275 non-null  float64\n",
      " 27  27      36275 non-null  float64\n",
      "dtypes: float64(28)\n",
      "memory usage: 7.7 MB\n"
     ]
    }
   ],
   "source": [
    "df.info()"
   ]
  },
  {
   "cell_type": "markdown",
   "id": "f630d577",
   "metadata": {
    "papermill": {
     "duration": 0.012443,
     "end_time": "2023-01-28T09:45:24.914046",
     "exception": false,
     "start_time": "2023-01-28T09:45:24.901603",
     "status": "completed"
    },
    "tags": []
   },
   "source": [
    "There can still be null values here. Lets find if there are any"
   ]
  },
  {
   "cell_type": "code",
   "execution_count": 14,
   "id": "f255cd9d",
   "metadata": {
    "execution": {
     "iopub.execute_input": "2023-01-28T09:45:24.942016Z",
     "iopub.status.busy": "2023-01-28T09:45:24.940844Z",
     "iopub.status.idle": "2023-01-28T09:45:24.949508Z",
     "shell.execute_reply": "2023-01-28T09:45:24.948465Z"
    },
    "papermill": {
     "duration": 0.024712,
     "end_time": "2023-01-28T09:45:24.951760",
     "exception": false,
     "start_time": "2023-01-28T09:45:24.927048",
     "status": "completed"
    },
    "tags": []
   },
   "outputs": [
    {
     "data": {
      "text/plain": [
       "False"
      ]
     },
     "execution_count": 14,
     "metadata": {},
     "output_type": "execute_result"
    }
   ],
   "source": [
    "df.isnull().values.any()"
   ]
  },
  {
   "cell_type": "markdown",
   "id": "e28f59d6",
   "metadata": {
    "papermill": {
     "duration": 0.01374,
     "end_time": "2023-01-28T09:45:24.978906",
     "exception": false,
     "start_time": "2023-01-28T09:45:24.965166",
     "status": "completed"
    },
    "tags": []
   },
   "source": [
    "As we can see there arent any null values. So we can get through this. Just in case if you find any null values at this step. You can use the code below to get rid of them. There are different approaches eliminating this problem and this is one of them that is commonly used \n",
    "\n",
    "```\n",
    "for i in df.columns:\n",
    "    if df[i].isnull().values.any():\n",
    "        df[i].fillna(df[i].mean() , axis = 0 , inplace = True)\n",
    "```\n"
   ]
  },
  {
   "cell_type": "markdown",
   "id": "c93a71f9",
   "metadata": {
    "papermill": {
     "duration": 0.014037,
     "end_time": "2023-01-28T09:45:25.007464",
     "exception": false,
     "start_time": "2023-01-28T09:45:24.993427",
     "status": "completed"
    },
    "tags": []
   },
   "source": [
    "Lets see how many values of 1 and 0s are there in the value"
   ]
  },
  {
   "cell_type": "code",
   "execution_count": 15,
   "id": "ce24e8ae",
   "metadata": {
    "execution": {
     "iopub.execute_input": "2023-01-28T09:45:25.044062Z",
     "iopub.status.busy": "2023-01-28T09:45:25.043622Z",
     "iopub.status.idle": "2023-01-28T09:45:25.056447Z",
     "shell.execute_reply": "2023-01-28T09:45:25.055673Z"
    },
    "papermill": {
     "duration": 0.034296,
     "end_time": "2023-01-28T09:45:25.058732",
     "exception": false,
     "start_time": "2023-01-28T09:45:25.024436",
     "status": "completed"
    },
    "tags": []
   },
   "outputs": [
    {
     "data": {
      "text/plain": [
       "1.0    24390\n",
       "0.0    11885\n",
       "Name: 27, dtype: int64"
      ]
     },
     "execution_count": 15,
     "metadata": {},
     "output_type": "execute_result"
    }
   ],
   "source": [
    "df[27].value_counts()"
   ]
  },
  {
   "cell_type": "markdown",
   "id": "023fad7b",
   "metadata": {
    "papermill": {
     "duration": 0.012687,
     "end_time": "2023-01-28T09:45:25.091577",
     "exception": false,
     "start_time": "2023-01-28T09:45:25.078890",
     "status": "completed"
    },
    "tags": []
   },
   "source": [
    "As we can see `1 are 24390` and `0 aare 11885` which are just half, this can lead to bad effieicncy of the model. We will use `RandomOverSmapling` from `imblearn.over_sampling`. You can get more info about it [here](https://imbalanced-learn.org/stable/references/generated/imblearn.over_sampling.RandomOverSampler.html). \n",
    "\n",
    "We can see that some data are in 100s and some are just 0/1. This can lead to baising in our model towards one feature. We need to scale the data accordingly \n",
    "We will be using `StandardScaler` from `sklearn.preprocessing `. You canm get more info about it [here](https://scikit-learn.org/stable/modules/generated/sklearn.preprocessing.StandardScaler.html).\n",
    "\n",
    "But lets first dplit our dataset into train and test now"
   ]
  },
  {
   "cell_type": "code",
   "execution_count": 16,
   "id": "f1510ca3",
   "metadata": {
    "execution": {
     "iopub.execute_input": "2023-01-28T09:45:25.119657Z",
     "iopub.status.busy": "2023-01-28T09:45:25.118838Z",
     "iopub.status.idle": "2023-01-28T09:45:25.144011Z",
     "shell.execute_reply": "2023-01-28T09:45:25.142814Z"
    },
    "papermill": {
     "duration": 0.042004,
     "end_time": "2023-01-28T09:45:25.146527",
     "exception": false,
     "start_time": "2023-01-28T09:45:25.104523",
     "status": "completed"
    },
    "tags": []
   },
   "outputs": [],
   "source": [
    "train , test = np.split(df.sample(frac = 1) , [int(0.8 * len(df))])"
   ]
  },
  {
   "cell_type": "code",
   "execution_count": 17,
   "id": "9bc38da9",
   "metadata": {
    "execution": {
     "iopub.execute_input": "2023-01-28T09:45:25.174350Z",
     "iopub.status.busy": "2023-01-28T09:45:25.173667Z",
     "iopub.status.idle": "2023-01-28T09:45:25.179917Z",
     "shell.execute_reply": "2023-01-28T09:45:25.178909Z"
    },
    "papermill": {
     "duration": 0.022623,
     "end_time": "2023-01-28T09:45:25.182062",
     "exception": false,
     "start_time": "2023-01-28T09:45:25.159439",
     "status": "completed"
    },
    "tags": []
   },
   "outputs": [],
   "source": [
    "def scaler(dataframe , oversampling = False):\n",
    "    X = dataframe.drop(27 , axis = 1)\n",
    "    Y = dataframe[27]\n",
    "\n",
    "    sc = StandardScaler()\n",
    "    sc.fit_transform(X)\n",
    "\n",
    "    ros = RandomOverSampler()\n",
    "    if oversampling:\n",
    "        ros.fit_resample(X , Y)\n",
    "\n",
    "    return X , Y"
   ]
  },
  {
   "cell_type": "code",
   "execution_count": 18,
   "id": "16aa226e",
   "metadata": {
    "execution": {
     "iopub.execute_input": "2023-01-28T09:45:25.210215Z",
     "iopub.status.busy": "2023-01-28T09:45:25.209777Z",
     "iopub.status.idle": "2023-01-28T09:45:25.266753Z",
     "shell.execute_reply": "2023-01-28T09:45:25.265867Z"
    },
    "papermill": {
     "duration": 0.074116,
     "end_time": "2023-01-28T09:45:25.269312",
     "exception": false,
     "start_time": "2023-01-28T09:45:25.195196",
     "status": "completed"
    },
    "tags": []
   },
   "outputs": [],
   "source": [
    "X_train , Y_train = scaler(train , oversampling = True)"
   ]
  },
  {
   "cell_type": "markdown",
   "id": "13cd092c",
   "metadata": {
    "papermill": {
     "duration": 0.012735,
     "end_time": "2023-01-28T09:45:25.295118",
     "exception": false,
     "start_time": "2023-01-28T09:45:25.282383",
     "status": "completed"
    },
    "tags": []
   },
   "source": [
    "RandomOverSampler is not required in test dataset, as it has predictions to be made"
   ]
  },
  {
   "cell_type": "code",
   "execution_count": 19,
   "id": "968eb856",
   "metadata": {
    "execution": {
     "iopub.execute_input": "2023-01-28T09:45:25.323153Z",
     "iopub.status.busy": "2023-01-28T09:45:25.322412Z",
     "iopub.status.idle": "2023-01-28T09:45:25.333155Z",
     "shell.execute_reply": "2023-01-28T09:45:25.332293Z"
    },
    "papermill": {
     "duration": 0.027299,
     "end_time": "2023-01-28T09:45:25.335352",
     "exception": false,
     "start_time": "2023-01-28T09:45:25.308053",
     "status": "completed"
    },
    "tags": []
   },
   "outputs": [],
   "source": [
    "X_test , Y_test = scaler(test)"
   ]
  },
  {
   "cell_type": "markdown",
   "id": "7cbdbe93",
   "metadata": {
    "papermill": {
     "duration": 0.012422,
     "end_time": "2023-01-28T09:45:25.360883",
     "exception": false,
     "start_time": "2023-01-28T09:45:25.348461",
     "status": "completed"
    },
    "tags": []
   },
   "source": [
    "Our data is good to go for modeling"
   ]
  },
  {
   "cell_type": "markdown",
   "id": "18113462",
   "metadata": {
    "papermill": {
     "duration": 0.012286,
     "end_time": "2023-01-28T09:45:25.385840",
     "exception": false,
     "start_time": "2023-01-28T09:45:25.373554",
     "status": "completed"
    },
    "tags": []
   },
   "source": [
    "We will first use the `KNeighbors CLasifier`. **You can understand it [here in english](https://youtu.be/wKmEULDRszo) and more infomration will be available [here](http://scikit-learn.org/stable/modules/generated/sklearn.neighbors.KNeighborsClassifier.html)**"
   ]
  },
  {
   "cell_type": "code",
   "execution_count": 20,
   "id": "1f889613",
   "metadata": {
    "execution": {
     "iopub.execute_input": "2023-01-28T09:45:25.413611Z",
     "iopub.status.busy": "2023-01-28T09:45:25.412922Z",
     "iopub.status.idle": "2023-01-28T09:45:29.935477Z",
     "shell.execute_reply": "2023-01-28T09:45:29.934371Z"
    },
    "papermill": {
     "duration": 4.539325,
     "end_time": "2023-01-28T09:45:29.937972",
     "exception": false,
     "start_time": "2023-01-28T09:45:25.398647",
     "status": "completed"
    },
    "tags": []
   },
   "outputs": [
    {
     "data": {
      "text/plain": [
       "array([0., 0., 1., ..., 0., 1., 1.])"
      ]
     },
     "execution_count": 20,
     "metadata": {},
     "output_type": "execute_result"
    }
   ],
   "source": [
    "model = KNeighborsClassifier()\n",
    "model.fit(X_train , Y_train)\n",
    "model.predict(X_test)"
   ]
  },
  {
   "cell_type": "markdown",
   "id": "68e4b7e1",
   "metadata": {
    "papermill": {
     "duration": 0.012604,
     "end_time": "2023-01-28T09:45:29.963720",
     "exception": false,
     "start_time": "2023-01-28T09:45:29.951116",
     "status": "completed"
    },
    "tags": []
   },
   "source": [
    "The second will be `Logistic Regression`. You can understand it [here in english](https://youtu.be/yIYKR4sgzI8) and more infomration will be available [here](http://scikit-learn.org/stable/modules/generated/sklearn.linear_model.LogisticRegression.html)"
   ]
  },
  {
   "cell_type": "code",
   "execution_count": 21,
   "id": "ca41660b",
   "metadata": {
    "execution": {
     "iopub.execute_input": "2023-01-28T09:45:29.991790Z",
     "iopub.status.busy": "2023-01-28T09:45:29.991380Z",
     "iopub.status.idle": "2023-01-28T09:45:30.588654Z",
     "shell.execute_reply": "2023-01-28T09:45:30.587164Z"
    },
    "papermill": {
     "duration": 0.616088,
     "end_time": "2023-01-28T09:45:30.593004",
     "exception": false,
     "start_time": "2023-01-28T09:45:29.976916",
     "status": "completed"
    },
    "tags": []
   },
   "outputs": [
    {
     "name": "stderr",
     "output_type": "stream",
     "text": [
      "/opt/conda/lib/python3.7/site-packages/sklearn/linear_model/_logistic.py:818: ConvergenceWarning: lbfgs failed to converge (status=1):\n",
      "STOP: TOTAL NO. of ITERATIONS REACHED LIMIT.\n",
      "\n",
      "Increase the number of iterations (max_iter) or scale the data as shown in:\n",
      "    https://scikit-learn.org/stable/modules/preprocessing.html\n",
      "Please also refer to the documentation for alternative solver options:\n",
      "    https://scikit-learn.org/stable/modules/linear_model.html#logistic-regression\n",
      "  extra_warning_msg=_LOGISTIC_SOLVER_CONVERGENCE_MSG,\n"
     ]
    },
    {
     "data": {
      "text/plain": [
       "array([0., 0., 1., ..., 1., 1., 1.])"
      ]
     },
     "execution_count": 21,
     "metadata": {},
     "output_type": "execute_result"
    }
   ],
   "source": [
    "model_1 = LogisticRegression()\n",
    "model_1.fit(X_train , Y_train)\n",
    "model_1.predict(X_test)"
   ]
  },
  {
   "cell_type": "markdown",
   "id": "7307d310",
   "metadata": {
    "papermill": {
     "duration": 0.032984,
     "end_time": "2023-01-28T09:45:30.660191",
     "exception": false,
     "start_time": "2023-01-28T09:45:30.627207",
     "status": "completed"
    },
    "tags": []
   },
   "source": [
    "The third and last would be `Gaussian Naive Bayes`. You can understand it [here in english](https://youtu.be/H3EjCKtlVog) and more infomration will be available [here](http://scikit-learn.org/stable/modules/generated/sklearn.naive_bayes.GaussianNB.html)"
   ]
  },
  {
   "cell_type": "code",
   "execution_count": 22,
   "id": "1be805db",
   "metadata": {
    "execution": {
     "iopub.execute_input": "2023-01-28T09:45:30.710398Z",
     "iopub.status.busy": "2023-01-28T09:45:30.710014Z",
     "iopub.status.idle": "2023-01-28T09:45:30.737606Z",
     "shell.execute_reply": "2023-01-28T09:45:30.736579Z"
    },
    "papermill": {
     "duration": 0.045752,
     "end_time": "2023-01-28T09:45:30.739823",
     "exception": false,
     "start_time": "2023-01-28T09:45:30.694071",
     "status": "completed"
    },
    "tags": []
   },
   "outputs": [
    {
     "data": {
      "text/plain": [
       "array([0., 0., 0., ..., 0., 0., 0.])"
      ]
     },
     "execution_count": 22,
     "metadata": {},
     "output_type": "execute_result"
    }
   ],
   "source": [
    "model_2 = GaussianNB()\n",
    "model_2.fit(X_train , Y_train)\n",
    "model_2.predict(X_test)"
   ]
  },
  {
   "cell_type": "markdown",
   "id": "437f5b46",
   "metadata": {
    "papermill": {
     "duration": 0.012972,
     "end_time": "2023-01-28T09:45:30.766226",
     "exception": false,
     "start_time": "2023-01-28T09:45:30.753254",
     "status": "completed"
    },
    "tags": []
   },
   "source": [
    "Now lets get the classification report of all these dataset."
   ]
  },
  {
   "cell_type": "code",
   "execution_count": 23,
   "id": "33680c53",
   "metadata": {
    "execution": {
     "iopub.execute_input": "2023-01-28T09:45:30.794993Z",
     "iopub.status.busy": "2023-01-28T09:45:30.794231Z",
     "iopub.status.idle": "2023-01-28T09:45:35.207335Z",
     "shell.execute_reply": "2023-01-28T09:45:35.206128Z"
    },
    "papermill": {
     "duration": 4.430733,
     "end_time": "2023-01-28T09:45:35.210355",
     "exception": false,
     "start_time": "2023-01-28T09:45:30.779622",
     "status": "completed"
    },
    "tags": []
   },
   "outputs": [
    {
     "name": "stdout",
     "output_type": "stream",
     "text": [
      "              precision    recall  f1-score   support\n",
      "\n",
      "         0.0       0.73      0.65      0.69      2382\n",
      "         1.0       0.84      0.88      0.86      4873\n",
      "\n",
      "    accuracy                           0.81      7255\n",
      "   macro avg       0.78      0.77      0.77      7255\n",
      "weighted avg       0.80      0.81      0.80      7255\n",
      "\n"
     ]
    }
   ],
   "source": [
    "print((classification_report(Y_test , model.predict(X_test))))"
   ]
  },
  {
   "cell_type": "code",
   "execution_count": 24,
   "id": "c557e547",
   "metadata": {
    "execution": {
     "iopub.execute_input": "2023-01-28T09:45:35.239945Z",
     "iopub.status.busy": "2023-01-28T09:45:35.239585Z",
     "iopub.status.idle": "2023-01-28T09:45:35.286573Z",
     "shell.execute_reply": "2023-01-28T09:45:35.285134Z"
    },
    "papermill": {
     "duration": 0.067318,
     "end_time": "2023-01-28T09:45:35.291528",
     "exception": false,
     "start_time": "2023-01-28T09:45:35.224210",
     "status": "completed"
    },
    "tags": []
   },
   "outputs": [
    {
     "name": "stdout",
     "output_type": "stream",
     "text": [
      "              precision    recall  f1-score   support\n",
      "\n",
      "         0.0       0.72      0.59      0.65      2382\n",
      "         1.0       0.82      0.89      0.85      4873\n",
      "\n",
      "    accuracy                           0.79      7255\n",
      "   macro avg       0.77      0.74      0.75      7255\n",
      "weighted avg       0.78      0.79      0.78      7255\n",
      "\n"
     ]
    }
   ],
   "source": [
    "print((classification_report(Y_test , model_1.predict(X_test))))"
   ]
  },
  {
   "cell_type": "code",
   "execution_count": 25,
   "id": "e27be5e7",
   "metadata": {
    "execution": {
     "iopub.execute_input": "2023-01-28T09:45:35.362210Z",
     "iopub.status.busy": "2023-01-28T09:45:35.361464Z",
     "iopub.status.idle": "2023-01-28T09:45:35.390869Z",
     "shell.execute_reply": "2023-01-28T09:45:35.390129Z"
    },
    "papermill": {
     "duration": 0.067584,
     "end_time": "2023-01-28T09:45:35.393395",
     "exception": false,
     "start_time": "2023-01-28T09:45:35.325811",
     "status": "completed"
    },
    "tags": []
   },
   "outputs": [
    {
     "name": "stdout",
     "output_type": "stream",
     "text": [
      "              precision    recall  f1-score   support\n",
      "\n",
      "         0.0       0.36      0.97      0.52      2382\n",
      "         1.0       0.90      0.16      0.27      4873\n",
      "\n",
      "    accuracy                           0.42      7255\n",
      "   macro avg       0.63      0.56      0.40      7255\n",
      "weighted avg       0.73      0.42      0.35      7255\n",
      "\n"
     ]
    }
   ],
   "source": [
    "print((classification_report(Y_test , model_2.predict(X_test))))"
   ]
  },
  {
   "cell_type": "code",
   "execution_count": null,
   "id": "42a4fbba",
   "metadata": {
    "papermill": {
     "duration": 0.013004,
     "end_time": "2023-01-28T09:45:35.419749",
     "exception": false,
     "start_time": "2023-01-28T09:45:35.406745",
     "status": "completed"
    },
    "tags": []
   },
   "outputs": [],
   "source": []
  }
 ],
 "metadata": {
  "kernelspec": {
   "display_name": "Python 3",
   "language": "python",
   "name": "python3"
  },
  "language_info": {
   "codemirror_mode": {
    "name": "ipython",
    "version": 3
   },
   "file_extension": ".py",
   "mimetype": "text/x-python",
   "name": "python",
   "nbconvert_exporter": "python",
   "pygments_lexer": "ipython3",
   "version": "3.7.12"
  },
  "papermill": {
   "default_parameters": {},
   "duration": 22.322882,
   "end_time": "2023-01-28T09:45:36.153597",
   "environment_variables": {},
   "exception": null,
   "input_path": "__notebook__.ipynb",
   "output_path": "__notebook__.ipynb",
   "parameters": {},
   "start_time": "2023-01-28T09:45:13.830715",
   "version": "2.3.4"
  }
 },
 "nbformat": 4,
 "nbformat_minor": 5
}
