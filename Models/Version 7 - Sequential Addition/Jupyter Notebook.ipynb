{
 "cells": [
  {
   "cell_type": "code",
   "execution_count": 1,
   "id": "ee82cb8b",
   "metadata": {
    "_cell_guid": "b1076dfc-b9ad-4769-8c92-a6c4dae69d19",
    "_uuid": "8f2839f25d086af736a60e9eeb907d3b93b6e0e5",
    "execution": {
     "iopub.execute_input": "2023-02-07T16:49:58.949625Z",
     "iopub.status.busy": "2023-02-07T16:49:58.949157Z",
     "iopub.status.idle": "2023-02-07T16:50:06.204272Z",
     "shell.execute_reply": "2023-02-07T16:50:06.203405Z"
    },
    "papermill": {
     "duration": 7.269433,
     "end_time": "2023-02-07T16:50:06.206999",
     "exception": false,
     "start_time": "2023-02-07T16:49:58.937566",
     "status": "completed"
    },
    "tags": []
   },
   "outputs": [
    {
     "name": "stdout",
     "output_type": "stream",
     "text": [
      "/kaggle/input/credit-card-customer-churn-prediction/Churn_Modelling.csv\n"
     ]
    }
   ],
   "source": [
    "# **DATA PROCESSING**\n",
    "\n",
    "import numpy as np # Array Processing\n",
    "import pandas as pd # Data Processing\n",
    "import os # Input\n",
    "\n",
    "# **DATA ANALYSIS**\n",
    "\n",
    "import matplotlib.pyplot as plt # Plots\n",
    "\n",
    "# **PRE PROCESSING**\n",
    "\n",
    "from sklearn.preprocessing import StandardScaler # Scaling of Data\n",
    "from imblearn.over_sampling import RandomOverSampler # Sampling of Data\n",
    "\n",
    "# **NEURAL NETWORKS**\n",
    "\n",
    "import tensorflow\n",
    "from tensorflow import keras\n",
    "from tensorflow.keras import Sequential\n",
    "from tensorflow.keras.layers import Dense\n",
    "\n",
    "# **METRICS**\n",
    "from sklearn.metrics import accuracy_score\n",
    "for dirname, _, filenames in os.walk('/kaggle/input'):\n",
    "    for filename in filenames:\n",
    "        print(os.path.join(dirname, filename))"
   ]
  },
  {
   "cell_type": "markdown",
   "id": "58440184",
   "metadata": {
    "papermill": {
     "duration": 0.008359,
     "end_time": "2023-02-07T16:50:06.224418",
     "exception": false,
     "start_time": "2023-02-07T16:50:06.216059",
     "status": "completed"
    },
    "tags": []
   },
   "source": [
    "Lets get our data into working"
   ]
  },
  {
   "cell_type": "code",
   "execution_count": 2,
   "id": "91f3433c",
   "metadata": {
    "execution": {
     "iopub.execute_input": "2023-02-07T16:50:06.244187Z",
     "iopub.status.busy": "2023-02-07T16:50:06.242968Z",
     "iopub.status.idle": "2023-02-07T16:50:06.321101Z",
     "shell.execute_reply": "2023-02-07T16:50:06.319602Z"
    },
    "papermill": {
     "duration": 0.090912,
     "end_time": "2023-02-07T16:50:06.323967",
     "exception": false,
     "start_time": "2023-02-07T16:50:06.233055",
     "status": "completed"
    },
    "tags": []
   },
   "outputs": [],
   "source": [
    "df = pd.read_csv(\"/kaggle/input/credit-card-customer-churn-prediction/Churn_Modelling.csv\")"
   ]
  },
  {
   "cell_type": "markdown",
   "id": "21ff6187",
   "metadata": {
    "papermill": {
     "duration": 0.008499,
     "end_time": "2023-02-07T16:50:06.341275",
     "exception": false,
     "start_time": "2023-02-07T16:50:06.332776",
     "status": "completed"
    },
    "tags": []
   },
   "source": [
    "It is a good practice to take a look at our dataset before processing it"
   ]
  },
  {
   "cell_type": "code",
   "execution_count": 3,
   "id": "22d2ae98",
   "metadata": {
    "execution": {
     "iopub.execute_input": "2023-02-07T16:50:06.360321Z",
     "iopub.status.busy": "2023-02-07T16:50:06.359926Z",
     "iopub.status.idle": "2023-02-07T16:50:06.394071Z",
     "shell.execute_reply": "2023-02-07T16:50:06.392693Z"
    },
    "papermill": {
     "duration": 0.046466,
     "end_time": "2023-02-07T16:50:06.396391",
     "exception": false,
     "start_time": "2023-02-07T16:50:06.349925",
     "status": "completed"
    },
    "tags": []
   },
   "outputs": [
    {
     "data": {
      "text/html": [
       "<div>\n",
       "<style scoped>\n",
       "    .dataframe tbody tr th:only-of-type {\n",
       "        vertical-align: middle;\n",
       "    }\n",
       "\n",
       "    .dataframe tbody tr th {\n",
       "        vertical-align: top;\n",
       "    }\n",
       "\n",
       "    .dataframe thead th {\n",
       "        text-align: right;\n",
       "    }\n",
       "</style>\n",
       "<table border=\"1\" class=\"dataframe\">\n",
       "  <thead>\n",
       "    <tr style=\"text-align: right;\">\n",
       "      <th></th>\n",
       "      <th>RowNumber</th>\n",
       "      <th>CustomerId</th>\n",
       "      <th>Surname</th>\n",
       "      <th>CreditScore</th>\n",
       "      <th>Geography</th>\n",
       "      <th>Gender</th>\n",
       "      <th>Age</th>\n",
       "      <th>Tenure</th>\n",
       "      <th>Balance</th>\n",
       "      <th>NumOfProducts</th>\n",
       "      <th>HasCrCard</th>\n",
       "      <th>IsActiveMember</th>\n",
       "      <th>EstimatedSalary</th>\n",
       "      <th>Exited</th>\n",
       "    </tr>\n",
       "  </thead>\n",
       "  <tbody>\n",
       "    <tr>\n",
       "      <th>0</th>\n",
       "      <td>1</td>\n",
       "      <td>15634602</td>\n",
       "      <td>Hargrave</td>\n",
       "      <td>619</td>\n",
       "      <td>France</td>\n",
       "      <td>Female</td>\n",
       "      <td>42</td>\n",
       "      <td>2</td>\n",
       "      <td>0.00</td>\n",
       "      <td>1</td>\n",
       "      <td>1</td>\n",
       "      <td>1</td>\n",
       "      <td>101348.88</td>\n",
       "      <td>1</td>\n",
       "    </tr>\n",
       "    <tr>\n",
       "      <th>1</th>\n",
       "      <td>2</td>\n",
       "      <td>15647311</td>\n",
       "      <td>Hill</td>\n",
       "      <td>608</td>\n",
       "      <td>Spain</td>\n",
       "      <td>Female</td>\n",
       "      <td>41</td>\n",
       "      <td>1</td>\n",
       "      <td>83807.86</td>\n",
       "      <td>1</td>\n",
       "      <td>0</td>\n",
       "      <td>1</td>\n",
       "      <td>112542.58</td>\n",
       "      <td>0</td>\n",
       "    </tr>\n",
       "    <tr>\n",
       "      <th>2</th>\n",
       "      <td>3</td>\n",
       "      <td>15619304</td>\n",
       "      <td>Onio</td>\n",
       "      <td>502</td>\n",
       "      <td>France</td>\n",
       "      <td>Female</td>\n",
       "      <td>42</td>\n",
       "      <td>8</td>\n",
       "      <td>159660.80</td>\n",
       "      <td>3</td>\n",
       "      <td>1</td>\n",
       "      <td>0</td>\n",
       "      <td>113931.57</td>\n",
       "      <td>1</td>\n",
       "    </tr>\n",
       "    <tr>\n",
       "      <th>3</th>\n",
       "      <td>4</td>\n",
       "      <td>15701354</td>\n",
       "      <td>Boni</td>\n",
       "      <td>699</td>\n",
       "      <td>France</td>\n",
       "      <td>Female</td>\n",
       "      <td>39</td>\n",
       "      <td>1</td>\n",
       "      <td>0.00</td>\n",
       "      <td>2</td>\n",
       "      <td>0</td>\n",
       "      <td>0</td>\n",
       "      <td>93826.63</td>\n",
       "      <td>0</td>\n",
       "    </tr>\n",
       "    <tr>\n",
       "      <th>4</th>\n",
       "      <td>5</td>\n",
       "      <td>15737888</td>\n",
       "      <td>Mitchell</td>\n",
       "      <td>850</td>\n",
       "      <td>Spain</td>\n",
       "      <td>Female</td>\n",
       "      <td>43</td>\n",
       "      <td>2</td>\n",
       "      <td>125510.82</td>\n",
       "      <td>1</td>\n",
       "      <td>1</td>\n",
       "      <td>1</td>\n",
       "      <td>79084.10</td>\n",
       "      <td>0</td>\n",
       "    </tr>\n",
       "    <tr>\n",
       "      <th>...</th>\n",
       "      <td>...</td>\n",
       "      <td>...</td>\n",
       "      <td>...</td>\n",
       "      <td>...</td>\n",
       "      <td>...</td>\n",
       "      <td>...</td>\n",
       "      <td>...</td>\n",
       "      <td>...</td>\n",
       "      <td>...</td>\n",
       "      <td>...</td>\n",
       "      <td>...</td>\n",
       "      <td>...</td>\n",
       "      <td>...</td>\n",
       "      <td>...</td>\n",
       "    </tr>\n",
       "    <tr>\n",
       "      <th>9995</th>\n",
       "      <td>9996</td>\n",
       "      <td>15606229</td>\n",
       "      <td>Obijiaku</td>\n",
       "      <td>771</td>\n",
       "      <td>France</td>\n",
       "      <td>Male</td>\n",
       "      <td>39</td>\n",
       "      <td>5</td>\n",
       "      <td>0.00</td>\n",
       "      <td>2</td>\n",
       "      <td>1</td>\n",
       "      <td>0</td>\n",
       "      <td>96270.64</td>\n",
       "      <td>0</td>\n",
       "    </tr>\n",
       "    <tr>\n",
       "      <th>9996</th>\n",
       "      <td>9997</td>\n",
       "      <td>15569892</td>\n",
       "      <td>Johnstone</td>\n",
       "      <td>516</td>\n",
       "      <td>France</td>\n",
       "      <td>Male</td>\n",
       "      <td>35</td>\n",
       "      <td>10</td>\n",
       "      <td>57369.61</td>\n",
       "      <td>1</td>\n",
       "      <td>1</td>\n",
       "      <td>1</td>\n",
       "      <td>101699.77</td>\n",
       "      <td>0</td>\n",
       "    </tr>\n",
       "    <tr>\n",
       "      <th>9997</th>\n",
       "      <td>9998</td>\n",
       "      <td>15584532</td>\n",
       "      <td>Liu</td>\n",
       "      <td>709</td>\n",
       "      <td>France</td>\n",
       "      <td>Female</td>\n",
       "      <td>36</td>\n",
       "      <td>7</td>\n",
       "      <td>0.00</td>\n",
       "      <td>1</td>\n",
       "      <td>0</td>\n",
       "      <td>1</td>\n",
       "      <td>42085.58</td>\n",
       "      <td>1</td>\n",
       "    </tr>\n",
       "    <tr>\n",
       "      <th>9998</th>\n",
       "      <td>9999</td>\n",
       "      <td>15682355</td>\n",
       "      <td>Sabbatini</td>\n",
       "      <td>772</td>\n",
       "      <td>Germany</td>\n",
       "      <td>Male</td>\n",
       "      <td>42</td>\n",
       "      <td>3</td>\n",
       "      <td>75075.31</td>\n",
       "      <td>2</td>\n",
       "      <td>1</td>\n",
       "      <td>0</td>\n",
       "      <td>92888.52</td>\n",
       "      <td>1</td>\n",
       "    </tr>\n",
       "    <tr>\n",
       "      <th>9999</th>\n",
       "      <td>10000</td>\n",
       "      <td>15628319</td>\n",
       "      <td>Walker</td>\n",
       "      <td>792</td>\n",
       "      <td>France</td>\n",
       "      <td>Female</td>\n",
       "      <td>28</td>\n",
       "      <td>4</td>\n",
       "      <td>130142.79</td>\n",
       "      <td>1</td>\n",
       "      <td>1</td>\n",
       "      <td>0</td>\n",
       "      <td>38190.78</td>\n",
       "      <td>0</td>\n",
       "    </tr>\n",
       "  </tbody>\n",
       "</table>\n",
       "<p>10000 rows × 14 columns</p>\n",
       "</div>"
      ],
      "text/plain": [
       "      RowNumber  CustomerId    Surname  CreditScore Geography  Gender  Age  \\\n",
       "0             1    15634602   Hargrave          619    France  Female   42   \n",
       "1             2    15647311       Hill          608     Spain  Female   41   \n",
       "2             3    15619304       Onio          502    France  Female   42   \n",
       "3             4    15701354       Boni          699    France  Female   39   \n",
       "4             5    15737888   Mitchell          850     Spain  Female   43   \n",
       "...         ...         ...        ...          ...       ...     ...  ...   \n",
       "9995       9996    15606229   Obijiaku          771    France    Male   39   \n",
       "9996       9997    15569892  Johnstone          516    France    Male   35   \n",
       "9997       9998    15584532        Liu          709    France  Female   36   \n",
       "9998       9999    15682355  Sabbatini          772   Germany    Male   42   \n",
       "9999      10000    15628319     Walker          792    France  Female   28   \n",
       "\n",
       "      Tenure    Balance  NumOfProducts  HasCrCard  IsActiveMember  \\\n",
       "0          2       0.00              1          1               1   \n",
       "1          1   83807.86              1          0               1   \n",
       "2          8  159660.80              3          1               0   \n",
       "3          1       0.00              2          0               0   \n",
       "4          2  125510.82              1          1               1   \n",
       "...      ...        ...            ...        ...             ...   \n",
       "9995       5       0.00              2          1               0   \n",
       "9996      10   57369.61              1          1               1   \n",
       "9997       7       0.00              1          0               1   \n",
       "9998       3   75075.31              2          1               0   \n",
       "9999       4  130142.79              1          1               0   \n",
       "\n",
       "      EstimatedSalary  Exited  \n",
       "0           101348.88       1  \n",
       "1           112542.58       0  \n",
       "2           113931.57       1  \n",
       "3            93826.63       0  \n",
       "4            79084.10       0  \n",
       "...               ...     ...  \n",
       "9995         96270.64       0  \n",
       "9996        101699.77       0  \n",
       "9997         42085.58       1  \n",
       "9998         92888.52       1  \n",
       "9999         38190.78       0  \n",
       "\n",
       "[10000 rows x 14 columns]"
      ]
     },
     "execution_count": 3,
     "metadata": {},
     "output_type": "execute_result"
    }
   ],
   "source": [
    "df"
   ]
  },
  {
   "cell_type": "markdown",
   "id": "72f1b4d4",
   "metadata": {
    "papermill": {
     "duration": 0.009853,
     "end_time": "2023-02-07T16:50:06.415478",
     "exception": false,
     "start_time": "2023-02-07T16:50:06.405625",
     "status": "completed"
    },
    "tags": []
   },
   "source": [
    "So the data set has $10000$ rows and $14$ columns accounting to $140000$ values. This huge number of data will really help us in making a good model"
   ]
  },
  {
   "cell_type": "markdown",
   "id": "cd962e58",
   "metadata": {
    "papermill": {
     "duration": 0.008834,
     "end_time": "2023-02-07T16:50:06.433466",
     "exception": false,
     "start_time": "2023-02-07T16:50:06.424632",
     "status": "completed"
    },
    "tags": []
   },
   "source": [
    "`RowNumber` `CustomerId` `Surname` is unique for every row and may decrease the efficiency of the model. So lets delete this column"
   ]
  },
  {
   "cell_type": "code",
   "execution_count": 4,
   "id": "a41da81f",
   "metadata": {
    "execution": {
     "iopub.execute_input": "2023-02-07T16:50:06.453794Z",
     "iopub.status.busy": "2023-02-07T16:50:06.453144Z",
     "iopub.status.idle": "2023-02-07T16:50:06.464436Z",
     "shell.execute_reply": "2023-02-07T16:50:06.463572Z"
    },
    "papermill": {
     "duration": 0.024223,
     "end_time": "2023-02-07T16:50:06.466870",
     "exception": false,
     "start_time": "2023-02-07T16:50:06.442647",
     "status": "completed"
    },
    "tags": []
   },
   "outputs": [],
   "source": [
    "df.drop([\"RowNumber\" , \"CustomerId\" , \"Surname\"] , axis = 1 , inplace = True)"
   ]
  },
  {
   "cell_type": "code",
   "execution_count": 5,
   "id": "aceb54c2",
   "metadata": {
    "execution": {
     "iopub.execute_input": "2023-02-07T16:50:06.487401Z",
     "iopub.status.busy": "2023-02-07T16:50:06.486803Z",
     "iopub.status.idle": "2023-02-07T16:50:06.506622Z",
     "shell.execute_reply": "2023-02-07T16:50:06.505527Z"
    },
    "papermill": {
     "duration": 0.032915,
     "end_time": "2023-02-07T16:50:06.509085",
     "exception": false,
     "start_time": "2023-02-07T16:50:06.476170",
     "status": "completed"
    },
    "tags": []
   },
   "outputs": [
    {
     "data": {
      "text/html": [
       "<div>\n",
       "<style scoped>\n",
       "    .dataframe tbody tr th:only-of-type {\n",
       "        vertical-align: middle;\n",
       "    }\n",
       "\n",
       "    .dataframe tbody tr th {\n",
       "        vertical-align: top;\n",
       "    }\n",
       "\n",
       "    .dataframe thead th {\n",
       "        text-align: right;\n",
       "    }\n",
       "</style>\n",
       "<table border=\"1\" class=\"dataframe\">\n",
       "  <thead>\n",
       "    <tr style=\"text-align: right;\">\n",
       "      <th></th>\n",
       "      <th>CreditScore</th>\n",
       "      <th>Geography</th>\n",
       "      <th>Gender</th>\n",
       "      <th>Age</th>\n",
       "      <th>Tenure</th>\n",
       "      <th>Balance</th>\n",
       "      <th>NumOfProducts</th>\n",
       "      <th>HasCrCard</th>\n",
       "      <th>IsActiveMember</th>\n",
       "      <th>EstimatedSalary</th>\n",
       "      <th>Exited</th>\n",
       "    </tr>\n",
       "  </thead>\n",
       "  <tbody>\n",
       "    <tr>\n",
       "      <th>0</th>\n",
       "      <td>619</td>\n",
       "      <td>France</td>\n",
       "      <td>Female</td>\n",
       "      <td>42</td>\n",
       "      <td>2</td>\n",
       "      <td>0.00</td>\n",
       "      <td>1</td>\n",
       "      <td>1</td>\n",
       "      <td>1</td>\n",
       "      <td>101348.88</td>\n",
       "      <td>1</td>\n",
       "    </tr>\n",
       "    <tr>\n",
       "      <th>1</th>\n",
       "      <td>608</td>\n",
       "      <td>Spain</td>\n",
       "      <td>Female</td>\n",
       "      <td>41</td>\n",
       "      <td>1</td>\n",
       "      <td>83807.86</td>\n",
       "      <td>1</td>\n",
       "      <td>0</td>\n",
       "      <td>1</td>\n",
       "      <td>112542.58</td>\n",
       "      <td>0</td>\n",
       "    </tr>\n",
       "    <tr>\n",
       "      <th>2</th>\n",
       "      <td>502</td>\n",
       "      <td>France</td>\n",
       "      <td>Female</td>\n",
       "      <td>42</td>\n",
       "      <td>8</td>\n",
       "      <td>159660.80</td>\n",
       "      <td>3</td>\n",
       "      <td>1</td>\n",
       "      <td>0</td>\n",
       "      <td>113931.57</td>\n",
       "      <td>1</td>\n",
       "    </tr>\n",
       "    <tr>\n",
       "      <th>3</th>\n",
       "      <td>699</td>\n",
       "      <td>France</td>\n",
       "      <td>Female</td>\n",
       "      <td>39</td>\n",
       "      <td>1</td>\n",
       "      <td>0.00</td>\n",
       "      <td>2</td>\n",
       "      <td>0</td>\n",
       "      <td>0</td>\n",
       "      <td>93826.63</td>\n",
       "      <td>0</td>\n",
       "    </tr>\n",
       "    <tr>\n",
       "      <th>4</th>\n",
       "      <td>850</td>\n",
       "      <td>Spain</td>\n",
       "      <td>Female</td>\n",
       "      <td>43</td>\n",
       "      <td>2</td>\n",
       "      <td>125510.82</td>\n",
       "      <td>1</td>\n",
       "      <td>1</td>\n",
       "      <td>1</td>\n",
       "      <td>79084.10</td>\n",
       "      <td>0</td>\n",
       "    </tr>\n",
       "    <tr>\n",
       "      <th>...</th>\n",
       "      <td>...</td>\n",
       "      <td>...</td>\n",
       "      <td>...</td>\n",
       "      <td>...</td>\n",
       "      <td>...</td>\n",
       "      <td>...</td>\n",
       "      <td>...</td>\n",
       "      <td>...</td>\n",
       "      <td>...</td>\n",
       "      <td>...</td>\n",
       "      <td>...</td>\n",
       "    </tr>\n",
       "    <tr>\n",
       "      <th>9995</th>\n",
       "      <td>771</td>\n",
       "      <td>France</td>\n",
       "      <td>Male</td>\n",
       "      <td>39</td>\n",
       "      <td>5</td>\n",
       "      <td>0.00</td>\n",
       "      <td>2</td>\n",
       "      <td>1</td>\n",
       "      <td>0</td>\n",
       "      <td>96270.64</td>\n",
       "      <td>0</td>\n",
       "    </tr>\n",
       "    <tr>\n",
       "      <th>9996</th>\n",
       "      <td>516</td>\n",
       "      <td>France</td>\n",
       "      <td>Male</td>\n",
       "      <td>35</td>\n",
       "      <td>10</td>\n",
       "      <td>57369.61</td>\n",
       "      <td>1</td>\n",
       "      <td>1</td>\n",
       "      <td>1</td>\n",
       "      <td>101699.77</td>\n",
       "      <td>0</td>\n",
       "    </tr>\n",
       "    <tr>\n",
       "      <th>9997</th>\n",
       "      <td>709</td>\n",
       "      <td>France</td>\n",
       "      <td>Female</td>\n",
       "      <td>36</td>\n",
       "      <td>7</td>\n",
       "      <td>0.00</td>\n",
       "      <td>1</td>\n",
       "      <td>0</td>\n",
       "      <td>1</td>\n",
       "      <td>42085.58</td>\n",
       "      <td>1</td>\n",
       "    </tr>\n",
       "    <tr>\n",
       "      <th>9998</th>\n",
       "      <td>772</td>\n",
       "      <td>Germany</td>\n",
       "      <td>Male</td>\n",
       "      <td>42</td>\n",
       "      <td>3</td>\n",
       "      <td>75075.31</td>\n",
       "      <td>2</td>\n",
       "      <td>1</td>\n",
       "      <td>0</td>\n",
       "      <td>92888.52</td>\n",
       "      <td>1</td>\n",
       "    </tr>\n",
       "    <tr>\n",
       "      <th>9999</th>\n",
       "      <td>792</td>\n",
       "      <td>France</td>\n",
       "      <td>Female</td>\n",
       "      <td>28</td>\n",
       "      <td>4</td>\n",
       "      <td>130142.79</td>\n",
       "      <td>1</td>\n",
       "      <td>1</td>\n",
       "      <td>0</td>\n",
       "      <td>38190.78</td>\n",
       "      <td>0</td>\n",
       "    </tr>\n",
       "  </tbody>\n",
       "</table>\n",
       "<p>10000 rows × 11 columns</p>\n",
       "</div>"
      ],
      "text/plain": [
       "      CreditScore Geography  Gender  Age  Tenure    Balance  NumOfProducts  \\\n",
       "0             619    France  Female   42       2       0.00              1   \n",
       "1             608     Spain  Female   41       1   83807.86              1   \n",
       "2             502    France  Female   42       8  159660.80              3   \n",
       "3             699    France  Female   39       1       0.00              2   \n",
       "4             850     Spain  Female   43       2  125510.82              1   \n",
       "...           ...       ...     ...  ...     ...        ...            ...   \n",
       "9995          771    France    Male   39       5       0.00              2   \n",
       "9996          516    France    Male   35      10   57369.61              1   \n",
       "9997          709    France  Female   36       7       0.00              1   \n",
       "9998          772   Germany    Male   42       3   75075.31              2   \n",
       "9999          792    France  Female   28       4  130142.79              1   \n",
       "\n",
       "      HasCrCard  IsActiveMember  EstimatedSalary  Exited  \n",
       "0             1               1        101348.88       1  \n",
       "1             0               1        112542.58       0  \n",
       "2             1               0        113931.57       1  \n",
       "3             0               0         93826.63       0  \n",
       "4             1               1         79084.10       0  \n",
       "...         ...             ...              ...     ...  \n",
       "9995          1               0         96270.64       0  \n",
       "9996          1               1        101699.77       0  \n",
       "9997          0               1         42085.58       1  \n",
       "9998          1               0         92888.52       1  \n",
       "9999          1               0         38190.78       0  \n",
       "\n",
       "[10000 rows x 11 columns]"
      ]
     },
     "execution_count": 5,
     "metadata": {},
     "output_type": "execute_result"
    }
   ],
   "source": [
    "df"
   ]
  },
  {
   "cell_type": "markdown",
   "id": "f4f35115",
   "metadata": {
    "papermill": {
     "duration": 0.00932,
     "end_time": "2023-02-07T16:50:06.527963",
     "exception": false,
     "start_time": "2023-02-07T16:50:06.518643",
     "status": "completed"
    },
    "tags": []
   },
   "source": [
    "Computer feels easier to understand and work on numerical value instead of string values. So lets get the datatypes of these values"
   ]
  },
  {
   "cell_type": "code",
   "execution_count": 6,
   "id": "dcfae9e6",
   "metadata": {
    "execution": {
     "iopub.execute_input": "2023-02-07T16:50:06.548904Z",
     "iopub.status.busy": "2023-02-07T16:50:06.548455Z",
     "iopub.status.idle": "2023-02-07T16:50:06.570641Z",
     "shell.execute_reply": "2023-02-07T16:50:06.569587Z"
    },
    "papermill": {
     "duration": 0.035743,
     "end_time": "2023-02-07T16:50:06.573291",
     "exception": false,
     "start_time": "2023-02-07T16:50:06.537548",
     "status": "completed"
    },
    "tags": []
   },
   "outputs": [
    {
     "name": "stdout",
     "output_type": "stream",
     "text": [
      "<class 'pandas.core.frame.DataFrame'>\n",
      "RangeIndex: 10000 entries, 0 to 9999\n",
      "Data columns (total 11 columns):\n",
      " #   Column           Non-Null Count  Dtype  \n",
      "---  ------           --------------  -----  \n",
      " 0   CreditScore      10000 non-null  int64  \n",
      " 1   Geography        10000 non-null  object \n",
      " 2   Gender           10000 non-null  object \n",
      " 3   Age              10000 non-null  int64  \n",
      " 4   Tenure           10000 non-null  int64  \n",
      " 5   Balance          10000 non-null  float64\n",
      " 6   NumOfProducts    10000 non-null  int64  \n",
      " 7   HasCrCard        10000 non-null  int64  \n",
      " 8   IsActiveMember   10000 non-null  int64  \n",
      " 9   EstimatedSalary  10000 non-null  float64\n",
      " 10  Exited           10000 non-null  int64  \n",
      "dtypes: float64(2), int64(7), object(2)\n",
      "memory usage: 859.5+ KB\n"
     ]
    }
   ],
   "source": [
    "df.info()"
   ]
  },
  {
   "cell_type": "markdown",
   "id": "097ee466",
   "metadata": {
    "papermill": {
     "duration": 0.009402,
     "end_time": "2023-02-07T16:50:06.592513",
     "exception": false,
     "start_time": "2023-02-07T16:50:06.583111",
     "status": "completed"
    },
    "tags": []
   },
   "source": [
    "Lets create dumies for categorical values"
   ]
  },
  {
   "cell_type": "code",
   "execution_count": 7,
   "id": "8b24654d",
   "metadata": {
    "execution": {
     "iopub.execute_input": "2023-02-07T16:50:06.613584Z",
     "iopub.status.busy": "2023-02-07T16:50:06.613169Z",
     "iopub.status.idle": "2023-02-07T16:50:06.625489Z",
     "shell.execute_reply": "2023-02-07T16:50:06.624366Z"
    },
    "papermill": {
     "duration": 0.025995,
     "end_time": "2023-02-07T16:50:06.628162",
     "exception": false,
     "start_time": "2023-02-07T16:50:06.602167",
     "status": "completed"
    },
    "tags": []
   },
   "outputs": [],
   "source": [
    "data =pd.get_dummies(df , columns = [\"Geography\" , \"Gender\"] , drop_first = True)"
   ]
  },
  {
   "cell_type": "code",
   "execution_count": 8,
   "id": "f54b07cb",
   "metadata": {
    "execution": {
     "iopub.execute_input": "2023-02-07T16:50:06.649600Z",
     "iopub.status.busy": "2023-02-07T16:50:06.648920Z",
     "iopub.status.idle": "2023-02-07T16:50:06.658045Z",
     "shell.execute_reply": "2023-02-07T16:50:06.656956Z"
    },
    "papermill": {
     "duration": 0.022383,
     "end_time": "2023-02-07T16:50:06.660291",
     "exception": false,
     "start_time": "2023-02-07T16:50:06.637908",
     "status": "completed"
    },
    "tags": []
   },
   "outputs": [
    {
     "data": {
      "text/plain": [
       "False"
      ]
     },
     "execution_count": 8,
     "metadata": {},
     "output_type": "execute_result"
    }
   ],
   "source": [
    "data.isnull().values.any()"
   ]
  },
  {
   "cell_type": "markdown",
   "id": "b3a1964f",
   "metadata": {
    "papermill": {
     "duration": 0.009434,
     "end_time": "2023-02-07T16:50:06.679736",
     "exception": false,
     "start_time": "2023-02-07T16:50:06.670302",
     "status": "completed"
    },
    "tags": []
   },
   "source": [
    "As we can see there arent any null values. So we can get through this. Just in case if you find any null values at this step. You can use the code below to get rid of them. There are different approaches eliminating this problem and this is one of them that is commonly used\n",
    "```\n",
    "for i in df.columns:\n",
    "    if df[i].isnull().values.any():\n",
    "        df[i].fillna(df[i].mean() , axis = 0 , inplace = True)\n",
    "```"
   ]
  },
  {
   "cell_type": "markdown",
   "id": "eccfb352",
   "metadata": {
    "papermill": {
     "duration": 0.009706,
     "end_time": "2023-02-07T16:50:06.699247",
     "exception": false,
     "start_time": "2023-02-07T16:50:06.689541",
     "status": "completed"
    },
    "tags": []
   },
   "source": [
    "Lets see how many values of 1 and 0s are there in the value"
   ]
  },
  {
   "cell_type": "code",
   "execution_count": 9,
   "id": "921f7229",
   "metadata": {
    "execution": {
     "iopub.execute_input": "2023-02-07T16:50:06.720137Z",
     "iopub.status.busy": "2023-02-07T16:50:06.719727Z",
     "iopub.status.idle": "2023-02-07T16:50:06.728471Z",
     "shell.execute_reply": "2023-02-07T16:50:06.727250Z"
    },
    "papermill": {
     "duration": 0.02182,
     "end_time": "2023-02-07T16:50:06.730796",
     "exception": false,
     "start_time": "2023-02-07T16:50:06.708976",
     "status": "completed"
    },
    "tags": []
   },
   "outputs": [
    {
     "data": {
      "text/plain": [
       "0    7963\n",
       "1    2037\n",
       "Name: Exited, dtype: int64"
      ]
     },
     "execution_count": 9,
     "metadata": {},
     "output_type": "execute_result"
    }
   ],
   "source": [
    "df[\"Exited\"].value_counts()"
   ]
  },
  {
   "cell_type": "markdown",
   "id": "8466a5b6",
   "metadata": {
    "papermill": {
     "duration": 0.009375,
     "end_time": "2023-02-07T16:50:06.750124",
     "exception": false,
     "start_time": "2023-02-07T16:50:06.740749",
     "status": "completed"
    },
    "tags": []
   },
   "source": [
    "As we can see $1$ are $2037$ and $0$ aare $7963$ which are almost half, this can lead to bad effieicncy of the model. We will use [RandomOverSmapling](https://imbalanced-learn.org/stable/references/generated/imblearn.over_sampling.RandomOverSampler.html) from [imblearn.over_sampling](https://imbalanced-learn.org/stable/references/generated/imblearn.over_sampling.SMOTE.html).\n",
    "\n",
    "We can see that some data are in 100s and some are just 0/1. This can lead to baising in our model towards one feature. We need to scale the data accordingly We will be using [StandardScaler](http://scikit-learn.org/stable/modules/generated/sklearn.preprocessing.StandardScaler.html) from [sklearn.preprocessing](https://scikit-learn.org/stable/modules/preprocessing.html). "
   ]
  },
  {
   "cell_type": "code",
   "execution_count": 10,
   "id": "3e80de84",
   "metadata": {
    "execution": {
     "iopub.execute_input": "2023-02-07T16:50:06.771210Z",
     "iopub.status.busy": "2023-02-07T16:50:06.770804Z",
     "iopub.status.idle": "2023-02-07T16:50:06.779189Z",
     "shell.execute_reply": "2023-02-07T16:50:06.778239Z"
    },
    "papermill": {
     "duration": 0.021576,
     "end_time": "2023-02-07T16:50:06.781465",
     "exception": false,
     "start_time": "2023-02-07T16:50:06.759889",
     "status": "completed"
    },
    "tags": []
   },
   "outputs": [],
   "source": [
    "train , test = np.split(data.sample(frac = 1) , [int(0.8*len(df))])"
   ]
  },
  {
   "cell_type": "code",
   "execution_count": 11,
   "id": "c65857a6",
   "metadata": {
    "execution": {
     "iopub.execute_input": "2023-02-07T16:50:06.803806Z",
     "iopub.status.busy": "2023-02-07T16:50:06.802655Z",
     "iopub.status.idle": "2023-02-07T16:50:06.809575Z",
     "shell.execute_reply": "2023-02-07T16:50:06.808441Z"
    },
    "papermill": {
     "duration": 0.020284,
     "end_time": "2023-02-07T16:50:06.811925",
     "exception": false,
     "start_time": "2023-02-07T16:50:06.791641",
     "status": "completed"
    },
    "tags": []
   },
   "outputs": [],
   "source": [
    "def pre(dataframe , oversampling = True):\n",
    "    x = dataframe.drop(\"Exited\" , axis = 1)\n",
    "    y = dataframe[\"Exited\"]\n",
    "    \n",
    "    sc = StandardScaler()\n",
    "    ros = RandomOverSampler()\n",
    "    \n",
    "    sc.fit_transform(x , y)\n",
    "    \n",
    "    if oversampling:\n",
    "        ros.fit_resample(x ,y)\n",
    "    \n",
    "    return x , y"
   ]
  },
  {
   "cell_type": "code",
   "execution_count": 12,
   "id": "01a7dd5e",
   "metadata": {
    "execution": {
     "iopub.execute_input": "2023-02-07T16:50:06.833912Z",
     "iopub.status.busy": "2023-02-07T16:50:06.833469Z",
     "iopub.status.idle": "2023-02-07T16:50:06.855176Z",
     "shell.execute_reply": "2023-02-07T16:50:06.853949Z"
    },
    "papermill": {
     "duration": 0.035917,
     "end_time": "2023-02-07T16:50:06.857749",
     "exception": false,
     "start_time": "2023-02-07T16:50:06.821832",
     "status": "completed"
    },
    "tags": []
   },
   "outputs": [],
   "source": [
    "X_train , Y_train = pre(train , oversampling = True)"
   ]
  },
  {
   "cell_type": "markdown",
   "id": "03569f86",
   "metadata": {
    "papermill": {
     "duration": 0.009447,
     "end_time": "2023-02-07T16:50:06.877082",
     "exception": false,
     "start_time": "2023-02-07T16:50:06.867635",
     "status": "completed"
    },
    "tags": []
   },
   "source": [
    "RandomOverSampler is not required in test dataset, as it has predictions to be made"
   ]
  },
  {
   "cell_type": "code",
   "execution_count": 13,
   "id": "c0483de5",
   "metadata": {
    "execution": {
     "iopub.execute_input": "2023-02-07T16:50:06.898970Z",
     "iopub.status.busy": "2023-02-07T16:50:06.898274Z",
     "iopub.status.idle": "2023-02-07T16:50:06.914876Z",
     "shell.execute_reply": "2023-02-07T16:50:06.913944Z"
    },
    "papermill": {
     "duration": 0.030384,
     "end_time": "2023-02-07T16:50:06.917265",
     "exception": false,
     "start_time": "2023-02-07T16:50:06.886881",
     "status": "completed"
    },
    "tags": []
   },
   "outputs": [],
   "source": [
    "X_test , Y_test = pre(test)"
   ]
  },
  {
   "cell_type": "markdown",
   "id": "46579a77",
   "metadata": {
    "papermill": {
     "duration": 0.009503,
     "end_time": "2023-02-07T16:50:06.936746",
     "exception": false,
     "start_time": "2023-02-07T16:50:06.927243",
     "status": "completed"
    },
    "tags": []
   },
   "source": [
    "Our data is good to go for modeling. Lets make the neural network"
   ]
  },
  {
   "cell_type": "markdown",
   "id": "a681010b",
   "metadata": {
    "papermill": {
     "duration": 0.009405,
     "end_time": "2023-02-07T16:50:06.956018",
     "exception": false,
     "start_time": "2023-02-07T16:50:06.946613",
     "status": "completed"
    },
    "tags": []
   },
   "source": [
    "This neural network will be having $11$ input perceptrons/neurons in the input layer. The hidden layer consisits of $1$ layer with $11$ nodes giving the $1$ outplut node with `sigmoid` as activation"
   ]
  },
  {
   "cell_type": "code",
   "execution_count": 14,
   "id": "23ca169a",
   "metadata": {
    "execution": {
     "iopub.execute_input": "2023-02-07T16:50:06.977465Z",
     "iopub.status.busy": "2023-02-07T16:50:06.976652Z",
     "iopub.status.idle": "2023-02-07T16:50:07.090916Z",
     "shell.execute_reply": "2023-02-07T16:50:07.089648Z"
    },
    "papermill": {
     "duration": 0.127661,
     "end_time": "2023-02-07T16:50:07.093388",
     "exception": false,
     "start_time": "2023-02-07T16:50:06.965727",
     "status": "completed"
    },
    "tags": []
   },
   "outputs": [
    {
     "name": "stderr",
     "output_type": "stream",
     "text": [
      "2023-02-07 16:50:07.012895: I tensorflow/core/common_runtime/process_util.cc:146] Creating new thread pool with default inter op setting: 2. Tune using inter_op_parallelism_threads for best performance.\n"
     ]
    }
   ],
   "source": [
    "model = Sequential()\n",
    "model.add(Dense(11 , activation = \"relu\" , input_dim = 11))\n",
    "model.add(Dense(11 , activation = \"relu\" , input_dim = 11))\n",
    "model.add(Dense(1 , activation = \"sigmoid\"))"
   ]
  },
  {
   "cell_type": "markdown",
   "id": "3cf676f9",
   "metadata": {
    "papermill": {
     "duration": 0.009726,
     "end_time": "2023-02-07T16:50:07.113101",
     "exception": false,
     "start_time": "2023-02-07T16:50:07.103375",
     "status": "completed"
    },
    "tags": []
   },
   "source": [
    "Lets get a summary of our model to check the things one "
   ]
  },
  {
   "cell_type": "code",
   "execution_count": 15,
   "id": "2ffe425d",
   "metadata": {
    "execution": {
     "iopub.execute_input": "2023-02-07T16:50:07.134781Z",
     "iopub.status.busy": "2023-02-07T16:50:07.134356Z",
     "iopub.status.idle": "2023-02-07T16:50:07.140572Z",
     "shell.execute_reply": "2023-02-07T16:50:07.139316Z"
    },
    "papermill": {
     "duration": 0.020063,
     "end_time": "2023-02-07T16:50:07.143200",
     "exception": false,
     "start_time": "2023-02-07T16:50:07.123137",
     "status": "completed"
    },
    "tags": []
   },
   "outputs": [
    {
     "name": "stdout",
     "output_type": "stream",
     "text": [
      "Model: \"sequential\"\n",
      "_________________________________________________________________\n",
      "Layer (type)                 Output Shape              Param #   \n",
      "=================================================================\n",
      "dense (Dense)                (None, 11)                132       \n",
      "_________________________________________________________________\n",
      "dense_1 (Dense)              (None, 11)                132       \n",
      "_________________________________________________________________\n",
      "dense_2 (Dense)              (None, 1)                 12        \n",
      "=================================================================\n",
      "Total params: 276\n",
      "Trainable params: 276\n",
      "Non-trainable params: 0\n",
      "_________________________________________________________________\n"
     ]
    }
   ],
   "source": [
    "model.summary()"
   ]
  },
  {
   "cell_type": "markdown",
   "id": "791795e3",
   "metadata": {
    "papermill": {
     "duration": 0.009684,
     "end_time": "2023-02-07T16:50:07.163122",
     "exception": false,
     "start_time": "2023-02-07T16:50:07.153438",
     "status": "completed"
    },
    "tags": []
   },
   "source": [
    "Now we will compile the model with the following attributes"
   ]
  },
  {
   "cell_type": "code",
   "execution_count": 16,
   "id": "caacb535",
   "metadata": {
    "execution": {
     "iopub.execute_input": "2023-02-07T16:50:07.184683Z",
     "iopub.status.busy": "2023-02-07T16:50:07.184280Z",
     "iopub.status.idle": "2023-02-07T16:50:07.199693Z",
     "shell.execute_reply": "2023-02-07T16:50:07.198785Z"
    },
    "papermill": {
     "duration": 0.029093,
     "end_time": "2023-02-07T16:50:07.202172",
     "exception": false,
     "start_time": "2023-02-07T16:50:07.173079",
     "status": "completed"
    },
    "tags": []
   },
   "outputs": [],
   "source": [
    "model.compile(loss = \"binary_crossentropy\" , optimizer = \"Adam\" , metrics = [\"accuracy\"])"
   ]
  },
  {
   "cell_type": "markdown",
   "id": "4274a3b8",
   "metadata": {
    "papermill": {
     "duration": 0.00952,
     "end_time": "2023-02-07T16:50:07.221732",
     "exception": false,
     "start_time": "2023-02-07T16:50:07.212212",
     "status": "completed"
    },
    "tags": []
   },
   "source": [
    "Now lets fit our model accordingly"
   ]
  },
  {
   "cell_type": "code",
   "execution_count": 17,
   "id": "838fcfed",
   "metadata": {
    "execution": {
     "iopub.execute_input": "2023-02-07T16:50:07.243795Z",
     "iopub.status.busy": "2023-02-07T16:50:07.242744Z",
     "iopub.status.idle": "2023-02-07T16:50:45.679298Z",
     "shell.execute_reply": "2023-02-07T16:50:45.677877Z"
    },
    "papermill": {
     "duration": 38.450401,
     "end_time": "2023-02-07T16:50:45.682078",
     "exception": false,
     "start_time": "2023-02-07T16:50:07.231677",
     "status": "completed"
    },
    "tags": []
   },
   "outputs": [
    {
     "name": "stderr",
     "output_type": "stream",
     "text": [
      "2023-02-07 16:50:07.326329: I tensorflow/compiler/mlir/mlir_graph_optimization_pass.cc:185] None of the MLIR Optimization Passes are enabled (registered 2)\n"
     ]
    },
    {
     "name": "stdout",
     "output_type": "stream",
     "text": [
      "Epoch 1/100\n",
      "200/200 [==============================] - 1s 4ms/step - loss: 12230.5508 - accuracy: 0.5117 - val_loss: 527.9493 - val_accuracy: 0.7131\n",
      "Epoch 2/100\n",
      "200/200 [==============================] - 0s 2ms/step - loss: 204.7537 - accuracy: 0.6783 - val_loss: 70.5164 - val_accuracy: 0.7475\n",
      "Epoch 3/100\n",
      "200/200 [==============================] - 0s 2ms/step - loss: 37.2617 - accuracy: 0.6578 - val_loss: 13.1619 - val_accuracy: 0.6519\n",
      "Epoch 4/100\n",
      "200/200 [==============================] - 0s 2ms/step - loss: 24.5751 - accuracy: 0.6633 - val_loss: 12.0422 - val_accuracy: 0.7069\n",
      "Epoch 5/100\n",
      "200/200 [==============================] - 0s 2ms/step - loss: 31.9662 - accuracy: 0.6770 - val_loss: 32.8895 - val_accuracy: 0.7681\n",
      "Epoch 6/100\n",
      "200/200 [==============================] - 0s 2ms/step - loss: 28.5644 - accuracy: 0.6744 - val_loss: 16.3078 - val_accuracy: 0.7119\n",
      "Epoch 7/100\n",
      "200/200 [==============================] - 0s 2ms/step - loss: 27.5519 - accuracy: 0.6797 - val_loss: 16.8199 - val_accuracy: 0.5688\n",
      "Epoch 8/100\n",
      "200/200 [==============================] - 0s 2ms/step - loss: 26.6099 - accuracy: 0.6820 - val_loss: 86.2133 - val_accuracy: 0.8056\n",
      "Epoch 9/100\n",
      "200/200 [==============================] - 0s 2ms/step - loss: 26.1687 - accuracy: 0.6847 - val_loss: 10.4968 - val_accuracy: 0.7544\n",
      "Epoch 10/100\n",
      "200/200 [==============================] - 0s 2ms/step - loss: 30.9505 - accuracy: 0.6780 - val_loss: 13.9009 - val_accuracy: 0.7906\n",
      "Epoch 11/100\n",
      "200/200 [==============================] - 0s 2ms/step - loss: 32.2054 - accuracy: 0.6806 - val_loss: 43.4550 - val_accuracy: 0.8056\n",
      "Epoch 12/100\n",
      "200/200 [==============================] - 0s 2ms/step - loss: 28.8846 - accuracy: 0.6831 - val_loss: 27.1635 - val_accuracy: 0.7944\n",
      "Epoch 13/100\n",
      "200/200 [==============================] - 0s 2ms/step - loss: 22.5515 - accuracy: 0.6947 - val_loss: 14.0579 - val_accuracy: 0.4506\n",
      "Epoch 14/100\n",
      "200/200 [==============================] - 0s 2ms/step - loss: 26.9115 - accuracy: 0.6864 - val_loss: 14.8178 - val_accuracy: 0.7962\n",
      "Epoch 15/100\n",
      "200/200 [==============================] - 0s 2ms/step - loss: 28.3105 - accuracy: 0.6925 - val_loss: 9.9358 - val_accuracy: 0.4256\n",
      "Epoch 16/100\n",
      "200/200 [==============================] - 0s 2ms/step - loss: 28.5967 - accuracy: 0.6819 - val_loss: 19.5393 - val_accuracy: 0.7781\n",
      "Epoch 17/100\n",
      "200/200 [==============================] - 0s 2ms/step - loss: 23.5095 - accuracy: 0.6950 - val_loss: 46.9148 - val_accuracy: 0.3063\n",
      "Epoch 18/100\n",
      "200/200 [==============================] - 0s 2ms/step - loss: 24.0133 - accuracy: 0.6867 - val_loss: 48.0832 - val_accuracy: 0.8056\n",
      "Epoch 19/100\n",
      "200/200 [==============================] - 0s 2ms/step - loss: 25.3764 - accuracy: 0.6855 - val_loss: 11.7612 - val_accuracy: 0.7987\n",
      "Epoch 20/100\n",
      "200/200 [==============================] - 0s 2ms/step - loss: 26.9749 - accuracy: 0.6906 - val_loss: 25.3476 - val_accuracy: 0.8056\n",
      "Epoch 21/100\n",
      "200/200 [==============================] - 0s 2ms/step - loss: 29.0619 - accuracy: 0.6786 - val_loss: 63.5186 - val_accuracy: 0.8056\n",
      "Epoch 22/100\n",
      "200/200 [==============================] - 0s 2ms/step - loss: 27.8433 - accuracy: 0.6916 - val_loss: 20.8288 - val_accuracy: 0.5856\n",
      "Epoch 23/100\n",
      "200/200 [==============================] - 0s 2ms/step - loss: 23.7381 - accuracy: 0.6922 - val_loss: 13.0170 - val_accuracy: 0.5994\n",
      "Epoch 24/100\n",
      "200/200 [==============================] - 0s 2ms/step - loss: 25.0694 - accuracy: 0.6856 - val_loss: 41.3960 - val_accuracy: 0.7919\n",
      "Epoch 25/100\n",
      "200/200 [==============================] - 0s 2ms/step - loss: 34.9180 - accuracy: 0.6953 - val_loss: 30.2599 - val_accuracy: 0.3388\n",
      "Epoch 26/100\n",
      "200/200 [==============================] - 0s 2ms/step - loss: 25.3447 - accuracy: 0.6816 - val_loss: 25.2810 - val_accuracy: 0.8056\n",
      "Epoch 27/100\n",
      "200/200 [==============================] - 0s 2ms/step - loss: 34.5096 - accuracy: 0.6800 - val_loss: 19.4370 - val_accuracy: 0.6069\n",
      "Epoch 28/100\n",
      "200/200 [==============================] - 0s 2ms/step - loss: 33.8149 - accuracy: 0.6759 - val_loss: 32.2770 - val_accuracy: 0.8056\n",
      "Epoch 29/100\n",
      "200/200 [==============================] - 0s 2ms/step - loss: 25.0182 - accuracy: 0.6858 - val_loss: 49.9186 - val_accuracy: 0.8062\n",
      "Epoch 30/100\n",
      "200/200 [==============================] - 0s 2ms/step - loss: 22.9172 - accuracy: 0.6848 - val_loss: 64.4459 - val_accuracy: 0.4631\n",
      "Epoch 31/100\n",
      "200/200 [==============================] - 0s 2ms/step - loss: 19.6738 - accuracy: 0.6877 - val_loss: 48.9630 - val_accuracy: 0.8044\n",
      "Epoch 32/100\n",
      "200/200 [==============================] - 0s 2ms/step - loss: 21.8004 - accuracy: 0.6820 - val_loss: 23.5398 - val_accuracy: 0.8056\n",
      "Epoch 33/100\n",
      "200/200 [==============================] - 0s 2ms/step - loss: 26.7815 - accuracy: 0.6900 - val_loss: 18.3795 - val_accuracy: 0.5125\n",
      "Epoch 34/100\n",
      "200/200 [==============================] - 0s 2ms/step - loss: 26.7008 - accuracy: 0.6872 - val_loss: 24.5125 - val_accuracy: 0.4863\n",
      "Epoch 35/100\n",
      "200/200 [==============================] - 0s 2ms/step - loss: 25.4794 - accuracy: 0.6927 - val_loss: 21.5792 - val_accuracy: 0.7900\n",
      "Epoch 36/100\n",
      "200/200 [==============================] - 0s 2ms/step - loss: 25.3922 - accuracy: 0.6855 - val_loss: 7.4383 - val_accuracy: 0.7644\n",
      "Epoch 37/100\n",
      "200/200 [==============================] - 0s 2ms/step - loss: 22.9946 - accuracy: 0.6900 - val_loss: 13.8460 - val_accuracy: 0.5569\n",
      "Epoch 38/100\n",
      "200/200 [==============================] - 0s 2ms/step - loss: 23.6237 - accuracy: 0.6847 - val_loss: 10.5441 - val_accuracy: 0.4556\n",
      "Epoch 39/100\n",
      "200/200 [==============================] - 0s 2ms/step - loss: 28.0694 - accuracy: 0.6884 - val_loss: 14.5055 - val_accuracy: 0.8050\n",
      "Epoch 40/100\n",
      "200/200 [==============================] - 0s 2ms/step - loss: 26.6539 - accuracy: 0.6842 - val_loss: 6.9085 - val_accuracy: 0.7987\n",
      "Epoch 41/100\n",
      "200/200 [==============================] - 0s 2ms/step - loss: 33.4594 - accuracy: 0.6888 - val_loss: 19.5215 - val_accuracy: 0.7450\n",
      "Epoch 42/100\n",
      "200/200 [==============================] - 0s 2ms/step - loss: 25.2275 - accuracy: 0.6842 - val_loss: 24.8357 - val_accuracy: 0.8056\n",
      "Epoch 43/100\n",
      "200/200 [==============================] - 0s 2ms/step - loss: 22.2911 - accuracy: 0.6944 - val_loss: 13.8208 - val_accuracy: 0.6025\n",
      "Epoch 44/100\n",
      "200/200 [==============================] - 0s 2ms/step - loss: 21.0628 - accuracy: 0.6895 - val_loss: 57.8142 - val_accuracy: 0.4812\n",
      "Epoch 45/100\n",
      "200/200 [==============================] - 0s 2ms/step - loss: 21.3778 - accuracy: 0.6941 - val_loss: 51.2050 - val_accuracy: 0.4825\n",
      "Epoch 46/100\n",
      "200/200 [==============================] - 0s 2ms/step - loss: 25.3946 - accuracy: 0.6938 - val_loss: 43.4364 - val_accuracy: 0.6388\n",
      "Epoch 47/100\n",
      "200/200 [==============================] - 0s 2ms/step - loss: 26.3079 - accuracy: 0.6853 - val_loss: 13.0396 - val_accuracy: 0.7806\n",
      "Epoch 48/100\n",
      "200/200 [==============================] - 0s 2ms/step - loss: 23.0608 - accuracy: 0.6897 - val_loss: 28.3570 - val_accuracy: 0.5344\n",
      "Epoch 49/100\n",
      "200/200 [==============================] - 0s 2ms/step - loss: 21.0158 - accuracy: 0.6928 - val_loss: 26.2624 - val_accuracy: 0.8056\n",
      "Epoch 50/100\n",
      "200/200 [==============================] - 0s 2ms/step - loss: 25.2683 - accuracy: 0.6870 - val_loss: 33.5494 - val_accuracy: 0.8056\n",
      "Epoch 51/100\n",
      "200/200 [==============================] - 0s 2ms/step - loss: 24.2862 - accuracy: 0.6941 - val_loss: 51.0601 - val_accuracy: 0.2269\n",
      "Epoch 52/100\n",
      "200/200 [==============================] - 0s 2ms/step - loss: 23.9448 - accuracy: 0.6819 - val_loss: 16.6654 - val_accuracy: 0.8050\n",
      "Epoch 53/100\n",
      "200/200 [==============================] - 0s 2ms/step - loss: 26.5446 - accuracy: 0.6870 - val_loss: 33.3189 - val_accuracy: 0.8050\n",
      "Epoch 54/100\n",
      "200/200 [==============================] - 0s 2ms/step - loss: 23.0104 - accuracy: 0.6930 - val_loss: 11.8141 - val_accuracy: 0.7931\n",
      "Epoch 55/100\n",
      "200/200 [==============================] - 0s 2ms/step - loss: 21.0958 - accuracy: 0.6898 - val_loss: 11.6604 - val_accuracy: 0.8031\n",
      "Epoch 56/100\n",
      "200/200 [==============================] - 0s 2ms/step - loss: 24.6866 - accuracy: 0.6847 - val_loss: 14.2912 - val_accuracy: 0.6637\n",
      "Epoch 57/100\n",
      "200/200 [==============================] - 0s 2ms/step - loss: 22.3023 - accuracy: 0.6927 - val_loss: 16.5323 - val_accuracy: 0.7181\n",
      "Epoch 58/100\n",
      "200/200 [==============================] - 0s 2ms/step - loss: 27.1103 - accuracy: 0.6928 - val_loss: 9.2762 - val_accuracy: 0.6288\n",
      "Epoch 59/100\n",
      "200/200 [==============================] - 0s 2ms/step - loss: 20.7616 - accuracy: 0.6931 - val_loss: 32.9510 - val_accuracy: 0.8044\n",
      "Epoch 60/100\n",
      "200/200 [==============================] - 0s 2ms/step - loss: 26.0058 - accuracy: 0.6956 - val_loss: 6.6520 - val_accuracy: 0.7994\n",
      "Epoch 61/100\n",
      "200/200 [==============================] - 0s 2ms/step - loss: 20.6148 - accuracy: 0.6972 - val_loss: 25.9584 - val_accuracy: 0.8056\n",
      "Epoch 62/100\n",
      "200/200 [==============================] - 0s 2ms/step - loss: 26.9091 - accuracy: 0.6928 - val_loss: 22.4852 - val_accuracy: 0.7756\n",
      "Epoch 63/100\n",
      "200/200 [==============================] - 0s 2ms/step - loss: 22.6236 - accuracy: 0.6884 - val_loss: 46.5750 - val_accuracy: 0.2131\n",
      "Epoch 64/100\n",
      "200/200 [==============================] - 0s 2ms/step - loss: 17.2801 - accuracy: 0.7003 - val_loss: 11.5156 - val_accuracy: 0.6256\n",
      "Epoch 65/100\n",
      "200/200 [==============================] - 0s 2ms/step - loss: 17.1859 - accuracy: 0.6909 - val_loss: 21.1174 - val_accuracy: 0.5706\n",
      "Epoch 66/100\n",
      "200/200 [==============================] - 0s 2ms/step - loss: 27.3743 - accuracy: 0.6906 - val_loss: 50.7712 - val_accuracy: 0.2425\n",
      "Epoch 67/100\n",
      "200/200 [==============================] - 0s 2ms/step - loss: 22.2437 - accuracy: 0.6934 - val_loss: 15.5543 - val_accuracy: 0.7944\n",
      "Epoch 68/100\n",
      "200/200 [==============================] - 0s 2ms/step - loss: 23.8057 - accuracy: 0.6903 - val_loss: 17.3304 - val_accuracy: 0.5325\n",
      "Epoch 69/100\n",
      "200/200 [==============================] - 0s 2ms/step - loss: 16.8638 - accuracy: 0.7023 - val_loss: 29.0872 - val_accuracy: 0.5369\n",
      "Epoch 70/100\n",
      "200/200 [==============================] - 0s 2ms/step - loss: 23.4531 - accuracy: 0.6920 - val_loss: 28.7895 - val_accuracy: 0.3931\n",
      "Epoch 71/100\n",
      "200/200 [==============================] - 0s 2ms/step - loss: 25.1995 - accuracy: 0.6891 - val_loss: 14.2963 - val_accuracy: 0.4137\n",
      "Epoch 72/100\n",
      "200/200 [==============================] - 0s 2ms/step - loss: 23.3733 - accuracy: 0.6933 - val_loss: 10.0089 - val_accuracy: 0.7688\n",
      "Epoch 73/100\n",
      "200/200 [==============================] - 0s 2ms/step - loss: 25.9286 - accuracy: 0.6894 - val_loss: 37.9454 - val_accuracy: 0.8037\n",
      "Epoch 74/100\n",
      "200/200 [==============================] - 0s 2ms/step - loss: 18.5225 - accuracy: 0.6994 - val_loss: 16.0300 - val_accuracy: 0.7806\n",
      "Epoch 75/100\n",
      "200/200 [==============================] - 0s 2ms/step - loss: 20.0562 - accuracy: 0.6973 - val_loss: 14.3972 - val_accuracy: 0.8056\n",
      "Epoch 76/100\n",
      "200/200 [==============================] - 0s 2ms/step - loss: 23.3677 - accuracy: 0.6939 - val_loss: 13.9962 - val_accuracy: 0.8069\n",
      "Epoch 77/100\n",
      "200/200 [==============================] - 0s 2ms/step - loss: 25.3468 - accuracy: 0.6927 - val_loss: 51.9719 - val_accuracy: 0.8050\n",
      "Epoch 78/100\n",
      "200/200 [==============================] - 0s 2ms/step - loss: 21.2370 - accuracy: 0.6964 - val_loss: 20.0861 - val_accuracy: 0.8050\n",
      "Epoch 79/100\n",
      "200/200 [==============================] - 0s 2ms/step - loss: 14.8133 - accuracy: 0.7003 - val_loss: 8.7933 - val_accuracy: 0.8075\n",
      "Epoch 80/100\n",
      "200/200 [==============================] - 0s 2ms/step - loss: 20.8987 - accuracy: 0.6905 - val_loss: 11.8002 - val_accuracy: 0.8050\n",
      "Epoch 81/100\n",
      "200/200 [==============================] - 0s 2ms/step - loss: 20.6788 - accuracy: 0.6909 - val_loss: 5.1627 - val_accuracy: 0.7850\n",
      "Epoch 82/100\n",
      "200/200 [==============================] - 0s 2ms/step - loss: 17.6476 - accuracy: 0.6897 - val_loss: 42.8537 - val_accuracy: 0.8056\n",
      "Epoch 83/100\n",
      "200/200 [==============================] - 0s 2ms/step - loss: 18.7392 - accuracy: 0.6923 - val_loss: 12.7555 - val_accuracy: 0.8062\n",
      "Epoch 84/100\n",
      "200/200 [==============================] - 0s 2ms/step - loss: 20.9255 - accuracy: 0.6963 - val_loss: 21.0719 - val_accuracy: 0.3725\n",
      "Epoch 85/100\n",
      "200/200 [==============================] - 1s 3ms/step - loss: 19.0229 - accuracy: 0.6867 - val_loss: 63.5937 - val_accuracy: 0.8031\n",
      "Epoch 86/100\n",
      "200/200 [==============================] - 0s 2ms/step - loss: 19.2787 - accuracy: 0.7016 - val_loss: 25.2020 - val_accuracy: 0.8062\n",
      "Epoch 87/100\n",
      "200/200 [==============================] - 0s 2ms/step - loss: 22.2355 - accuracy: 0.7002 - val_loss: 36.1815 - val_accuracy: 0.8062\n",
      "Epoch 88/100\n",
      "200/200 [==============================] - 0s 2ms/step - loss: 24.1745 - accuracy: 0.6991 - val_loss: 14.0426 - val_accuracy: 0.5813\n",
      "Epoch 89/100\n",
      "200/200 [==============================] - 0s 2ms/step - loss: 17.7201 - accuracy: 0.6942 - val_loss: 22.2526 - val_accuracy: 0.8056\n",
      "Epoch 90/100\n",
      "200/200 [==============================] - 0s 2ms/step - loss: 15.8501 - accuracy: 0.6981 - val_loss: 12.2948 - val_accuracy: 0.8050\n",
      "Epoch 91/100\n",
      "200/200 [==============================] - 0s 2ms/step - loss: 27.1314 - accuracy: 0.6853 - val_loss: 23.9331 - val_accuracy: 0.8044\n",
      "Epoch 92/100\n",
      "200/200 [==============================] - 0s 2ms/step - loss: 20.6281 - accuracy: 0.6948 - val_loss: 10.4503 - val_accuracy: 0.7906\n",
      "Epoch 93/100\n",
      "200/200 [==============================] - 0s 2ms/step - loss: 14.8389 - accuracy: 0.6975 - val_loss: 16.1639 - val_accuracy: 0.8062\n",
      "Epoch 94/100\n",
      "200/200 [==============================] - 0s 2ms/step - loss: 17.1441 - accuracy: 0.7008 - val_loss: 5.7014 - val_accuracy: 0.7456\n",
      "Epoch 95/100\n",
      "200/200 [==============================] - 0s 2ms/step - loss: 24.1433 - accuracy: 0.6905 - val_loss: 8.7242 - val_accuracy: 0.7862\n",
      "Epoch 96/100\n",
      "200/200 [==============================] - 0s 2ms/step - loss: 23.6589 - accuracy: 0.6886 - val_loss: 16.4241 - val_accuracy: 0.3725\n",
      "Epoch 97/100\n",
      "200/200 [==============================] - 0s 2ms/step - loss: 22.8179 - accuracy: 0.6966 - val_loss: 4.0956 - val_accuracy: 0.7613\n",
      "Epoch 98/100\n",
      "200/200 [==============================] - 0s 2ms/step - loss: 16.2981 - accuracy: 0.7033 - val_loss: 14.1455 - val_accuracy: 0.8037\n",
      "Epoch 99/100\n",
      "200/200 [==============================] - 0s 2ms/step - loss: 19.1790 - accuracy: 0.7025 - val_loss: 41.9704 - val_accuracy: 0.8025\n",
      "Epoch 100/100\n",
      "200/200 [==============================] - 0s 2ms/step - loss: 24.6611 - accuracy: 0.6956 - val_loss: 17.0768 - val_accuracy: 0.7969\n"
     ]
    }
   ],
   "source": [
    "hitstory = model.fit(X_train , Y_train , epochs = 100 , validation_split = 0.2)"
   ]
  },
  {
   "cell_type": "markdown",
   "id": "ae87aaf0",
   "metadata": {
    "papermill": {
     "duration": 0.053356,
     "end_time": "2023-02-07T16:50:45.792968",
     "exception": false,
     "start_time": "2023-02-07T16:50:45.739612",
     "status": "completed"
    },
    "tags": []
   },
   "source": [
    "As we have trained our model, now lets test it "
   ]
  },
  {
   "cell_type": "code",
   "execution_count": 18,
   "id": "1cb406a7",
   "metadata": {
    "execution": {
     "iopub.execute_input": "2023-02-07T16:50:45.902608Z",
     "iopub.status.busy": "2023-02-07T16:50:45.902205Z",
     "iopub.status.idle": "2023-02-07T16:50:46.092563Z",
     "shell.execute_reply": "2023-02-07T16:50:46.091356Z"
    },
    "papermill": {
     "duration": 0.249085,
     "end_time": "2023-02-07T16:50:46.095456",
     "exception": false,
     "start_time": "2023-02-07T16:50:45.846371",
     "status": "completed"
    },
    "tags": []
   },
   "outputs": [],
   "source": [
    "y_log = model.predict(X_test)"
   ]
  },
  {
   "cell_type": "markdown",
   "id": "f16ed1a7",
   "metadata": {
    "papermill": {
     "duration": 0.052801,
     "end_time": "2023-02-07T16:50:46.202388",
     "exception": false,
     "start_time": "2023-02-07T16:50:46.149587",
     "status": "completed"
    },
    "tags": []
   },
   "source": [
    "As the values are in integer format but we need only 0 or 1, we need to pass the model through a condition"
   ]
  },
  {
   "cell_type": "code",
   "execution_count": 19,
   "id": "8878d569",
   "metadata": {
    "execution": {
     "iopub.execute_input": "2023-02-07T16:50:46.309442Z",
     "iopub.status.busy": "2023-02-07T16:50:46.309045Z",
     "iopub.status.idle": "2023-02-07T16:50:46.314132Z",
     "shell.execute_reply": "2023-02-07T16:50:46.312960Z"
    },
    "papermill": {
     "duration": 0.06198,
     "end_time": "2023-02-07T16:50:46.316499",
     "exception": false,
     "start_time": "2023-02-07T16:50:46.254519",
     "status": "completed"
    },
    "tags": []
   },
   "outputs": [],
   "source": [
    "y_pred = np.where(y_log > 0.5 , 1 , 0)"
   ]
  },
  {
   "cell_type": "code",
   "execution_count": 20,
   "id": "ecab3506",
   "metadata": {
    "execution": {
     "iopub.execute_input": "2023-02-07T16:50:46.423959Z",
     "iopub.status.busy": "2023-02-07T16:50:46.423063Z",
     "iopub.status.idle": "2023-02-07T16:50:46.430915Z",
     "shell.execute_reply": "2023-02-07T16:50:46.429523Z"
    },
    "papermill": {
     "duration": 0.06458,
     "end_time": "2023-02-07T16:50:46.433490",
     "exception": false,
     "start_time": "2023-02-07T16:50:46.368910",
     "status": "completed"
    },
    "tags": []
   },
   "outputs": [
    {
     "name": "stdout",
     "output_type": "stream",
     "text": [
      "0.775\n"
     ]
    }
   ],
   "source": [
    "print(accuracy_score(Y_test , y_pred))"
   ]
  },
  {
   "cell_type": "markdown",
   "id": "e2974050",
   "metadata": {
    "papermill": {
     "duration": 0.052606,
     "end_time": "2023-02-07T16:50:46.539338",
     "exception": false,
     "start_time": "2023-02-07T16:50:46.486732",
     "status": "completed"
    },
    "tags": []
   },
   "source": [
    "Thats not quite a good accuracy, but we will go for it, and improve it further"
   ]
  },
  {
   "cell_type": "markdown",
   "id": "cffd1525",
   "metadata": {
    "papermill": {
     "duration": 0.053112,
     "end_time": "2023-02-07T16:50:46.645458",
     "exception": false,
     "start_time": "2023-02-07T16:50:46.592346",
     "status": "completed"
    },
    "tags": []
   },
   "source": [
    "Its a good practice to take a look at our model losses"
   ]
  },
  {
   "cell_type": "code",
   "execution_count": 21,
   "id": "640b4d13",
   "metadata": {
    "execution": {
     "iopub.execute_input": "2023-02-07T16:50:46.774647Z",
     "iopub.status.busy": "2023-02-07T16:50:46.773638Z",
     "iopub.status.idle": "2023-02-07T16:50:47.013920Z",
     "shell.execute_reply": "2023-02-07T16:50:47.012905Z"
    },
    "papermill": {
     "duration": 0.315291,
     "end_time": "2023-02-07T16:50:47.016543",
     "exception": false,
     "start_time": "2023-02-07T16:50:46.701252",
     "status": "completed"
    },
    "tags": []
   },
   "outputs": [
    {
     "data": {
      "text/plain": [
       "<matplotlib.legend.Legend at 0x7f46e2e2bbd0>"
      ]
     },
     "execution_count": 21,
     "metadata": {},
     "output_type": "execute_result"
    },
    {
     "data": {
      "image/png": "[encoded data removed]",
      "text/plain": [
       "<Figure size 432x288 with 1 Axes>"
      ]
     },
     "metadata": {
      "needs_background": "light"
     },
     "output_type": "display_data"
    }
   ],
   "source": [
    "plt.plot(hitstory.history[\"loss\"])\n",
    "plt.plot(hitstory.history[\"val_loss\"])\n",
    "plt.legend()"
   ]
  },
  {
   "cell_type": "markdown",
   "id": "090d235b",
   "metadata": {
    "papermill": {
     "duration": 0.054632,
     "end_time": "2023-02-07T16:50:47.124642",
     "exception": false,
     "start_time": "2023-02-07T16:50:47.070010",
     "status": "completed"
    },
    "tags": []
   },
   "source": [
    "As we can see, after $5$ epochs the metrics were the best, so we actually do not need that much epochs"
   ]
  },
  {
   "cell_type": "code",
   "execution_count": 22,
   "id": "4b71da7d",
   "metadata": {
    "execution": {
     "iopub.execute_input": "2023-02-07T16:50:47.234122Z",
     "iopub.status.busy": "2023-02-07T16:50:47.233698Z",
     "iopub.status.idle": "2023-02-07T16:50:47.439689Z",
     "shell.execute_reply": "2023-02-07T16:50:47.438592Z"
    },
    "papermill": {
     "duration": 0.263522,
     "end_time": "2023-02-07T16:50:47.441954",
     "exception": false,
     "start_time": "2023-02-07T16:50:47.178432",
     "status": "completed"
    },
    "tags": []
   },
   "outputs": [
    {
     "data": {
      "text/plain": [
       "<matplotlib.legend.Legend at 0x7f46c9dc1e90>"
      ]
     },
     "execution_count": 22,
     "metadata": {},
     "output_type": "execute_result"
    },
    {
     "data": {
      "image/png": "[encoded data removed]",
      "text/plain": [
       "<Figure size 432x288 with 1 Axes>"
      ]
     },
     "metadata": {
      "needs_background": "light"
     },
     "output_type": "display_data"
    }
   ],
   "source": [
    "plt.plot(hitstory.history[\"accuracy\"])\n",
    "plt.plot(hitstory.history[\"val_accuracy\"])\n",
    "plt.legend()"
   ]
  },
  {
   "cell_type": "markdown",
   "id": "684513d7",
   "metadata": {
    "papermill": {
     "duration": 0.054069,
     "end_time": "2023-02-07T16:50:47.549705",
     "exception": false,
     "start_time": "2023-02-07T16:50:47.495636",
     "status": "completed"
    },
    "tags": []
   },
   "source": [
    "**THATS IT FOR TODAY GUYS**\n",
    "\n",
    "**IF YOU LIKED MY WORK, PLEASE MAKE AN UPVOTE :)**\n",
    "\n",
    "**WORKING MORE ON IMPROVING IT**"
   ]
  },
  {
   "cell_type": "markdown",
   "id": "ff762845",
   "metadata": {
    "papermill": {
     "duration": 0.054422,
     "end_time": "2023-02-07T16:50:47.657459",
     "exception": false,
     "start_time": "2023-02-07T16:50:47.603037",
     "status": "completed"
    },
    "tags": []
   },
   "source": [
    "# Version Info\n",
    "\n",
    "* **Version 1 - Raw Code**\n",
    "* **Version 2 - Documentation**"
   ]
  }
 ],
 "metadata": {
  "kernelspec": {
   "display_name": "Python 3",
   "language": "python",
   "name": "python3"
  },
  "language_info": {
   "codemirror_mode": {
    "name": "ipython",
    "version": 3
   },
   "file_extension": ".py",
   "mimetype": "text/x-python",
   "name": "python",
   "nbconvert_exporter": "python",
   "pygments_lexer": "ipython3",
   "version": "3.7.12"
  },
  "papermill": {
   "default_parameters": {},
   "duration": 60.167475,
   "end_time": "2023-02-07T16:50:50.874446",
   "environment_variables": {},
   "exception": null,
   "input_path": "__notebook__.ipynb",
   "output_path": "__notebook__.ipynb",
   "parameters": {},
   "start_time": "2023-02-07T16:49:50.706971",
   "version": "2.3.4"
  }
 },
 "nbformat": 4,
 "nbformat_minor": 5
}
